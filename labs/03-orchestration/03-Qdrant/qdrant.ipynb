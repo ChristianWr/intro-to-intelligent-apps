{
 "cells": [
  {
   "attachments": {},
   "cell_type": "markdown",
   "metadata": {},
   "source": [
    "# 03 - Langchain with Qdrant\n",
    "\n",
    "In this lab, we will do a deeper dive around the Qdrant vector store and different ways to interact with it. We'll look at how we can use different search methods to vary the results and how we can use the results with a large language model.\n",
    "\n",
    "We'll start as usual by loading the values from the `.env` file in the root of this repository."
   ]
  },
  {
   "cell_type": "code",
   "execution_count": 2,
   "metadata": {},
   "outputs": [
    {
     "name": "stdout",
     "output_type": "stream",
     "text": [
      "Found Azure OpenAI Endpoint: https://openai-sweden-testing.openai.azure.com/\n"
     ]
    }
   ],
   "source": [
    "import os\n",
    "from dotenv import load_dotenv\n",
    "\n",
    "# Load environment variables\n",
    "if load_dotenv():\n",
    "    print(\"Found Azure OpenAI Endpoint: \" + os.getenv(\"AZURE_OPENAI_ENDPOINT\"))\n",
    "else: \n",
    "    print(\"No file .env found\")"
   ]
  },
  {
   "attachments": {},
   "cell_type": "markdown",
   "metadata": {},
   "source": [
    "In this lab, we'll use the data from the movies.csv file in this folder, which contains details of around 500 different movies. We'll use a Langchain document loader to load all of the movie data into memory."
   ]
  },
  {
   "cell_type": "code",
   "execution_count": 2,
   "metadata": {},
   "outputs": [
    {
     "name": "stdout",
     "output_type": "stream",
     "text": [
      "Loaded 501 movies\n"
     ]
    }
   ],
   "source": [
    "from langchain.document_loaders.csv_loader import CSVLoader\n",
    "\n",
    "loader = CSVLoader(file_path='./movies.csv', source_column='original_title', encoding='utf-8', csv_args={'delimiter':',', 'fieldnames': ['id', 'original_language', 'original_title', 'popularity', 'release_date', 'vote_average', 'vote_count', 'genre', 'overview', 'revenue', 'runtime', 'tagline']})\n",
    "data = loader.load()\n",
    "# data = data[1:51] # You can uncomment this line to load a smaller subset of the data if you experience issues with token limits or timeouts later in this lab.\n",
    "print('Loaded %s movies' % len(data))"
   ]
  },
  {
   "attachments": {},
   "cell_type": "markdown",
   "metadata": {},
   "source": [
    "Next, we'll create Azure OpenAI embedding and chat completion deployments. The embeddings instance will be used to create the vector representation of the movies in the loaded CSV file and the chat completion instance will be used to ask questions."
   ]
  },
  {
   "cell_type": "code",
   "execution_count": 3,
   "metadata": {},
   "outputs": [],
   "source": [
    "from langchain_openai import AzureChatOpenAI\n",
    "from langchain_openai import AzureOpenAIEmbeddings\n",
    "\n",
    "# Create an Embeddings Instance of Azure OpenAI\n",
    "embeddings = AzureOpenAIEmbeddings(\n",
    "    azure_deployment = os.getenv(\"AZURE_OPENAI_EMBEDDING_DEPLOYMENT_NAME\"),\n",
    "    openai_api_version = os.getenv(\"OPENAI_EMBEDDING_API_VERSION\"),\n",
    "    model= os.getenv(\"AZURE_OPENAI_EMBEDDING_MODEL\")\n",
    ")\n",
    "\n",
    "\n",
    "# Create a Chat Completion Instance of Azure OpenAI\n",
    "llm = AzureChatOpenAI(\n",
    "    azure_deployment = os.getenv(\"AZURE_OPENAI_COMPLETION_DEPLOYMENT_NAME\")\n",
    ")"
   ]
  },
  {
   "attachments": {},
   "cell_type": "markdown",
   "metadata": {},
   "source": [
    "## Start Qdrant Server Locally\n",
    "\n",
    "**NOTE**: Please read the following carefully.\n",
    "\n",
    "In previous labs, we ran the Qdrant vector store in memory, so it's contents were lost once Qdrant stopped running. In this lab, we'll run Qdrant to persist data to disk.\n",
    "\n",
    "If you are running this lab in Codespaces or a VS Code local devcontainer, then Qdrant is already running and you can continue to the next section.\n",
    "\n",
    "Otherwise, we need to start a local instance of Qdrant. The easiest way to do this is with Docker. If you don't have Docker on your device, consider running this workshop in a Codespace or a VS Code devcontainer."
   ]
  },
  {
   "cell_type": "code",
   "execution_count": 4,
   "metadata": {},
   "outputs": [
    {
     "name": "stdout",
     "output_type": "stream",
     "text": [
      "Unable to find image 'qdrant/qdrant:latest' locally\n",
      "latest: Pulling from qdrant/qdrant\n",
      "\n",
      "\u001b[1B25ce7c4f: Pulling fs layer \n",
      "\u001b[1B880a5c2a: Pulling fs layer \n",
      "\u001b[1B941732d9: Pulling fs layer \n",
      "\u001b[1Ba7a6407f: Pulling fs layer \n",
      "\u001b[1B90538a63: Pulling fs layer \n",
      "\u001b[1B160fceff: Pulling fs layer \n",
      "\u001b[1B681af57c: Pulling fs layer \n",
      "\u001b[1Bb700ef54: Pull complete   32B/32B87MBB\u001b[7A\u001b[2K\u001b[8A\u001b[2K\u001b[8A\u001b[2K\u001b[4A\u001b[2K\u001b[8A\u001b[2K\u001b[3A\u001b[2K\u001b[8A\u001b[2K\u001b[2A\u001b[2K\u001b[8A\u001b[2K\u001b[8A\u001b[2K\u001b[5A\u001b[2K\u001b[8A\u001b[2K\u001b[8A\u001b[2K\u001b[8A\u001b[2K\u001b[8A\u001b[2K\u001b[8A\u001b[2K\u001b[8A\u001b[2K\u001b[8A\u001b[2K\u001b[8A\u001b[2K\u001b[8A\u001b[2K\u001b[7A\u001b[2K\u001b[7A\u001b[2K\u001b[7A\u001b[2K\u001b[7A\u001b[2K\u001b[7A\u001b[2K\u001b[6A\u001b[2K\u001b[6A\u001b[2K\u001b[5A\u001b[2K\u001b[5A\u001b[2K\u001b[5A\u001b[2K\u001b[5A\u001b[2K\u001b[5A\u001b[2K\u001b[5A\u001b[2K\u001b[5A\u001b[2K\u001b[5A\u001b[2K\u001b[5A\u001b[2K\u001b[5A\u001b[2K\u001b[4A\u001b[2K\u001b[4A\u001b[2K\u001b[3A\u001b[2K\u001b[3A\u001b[2K\u001b[2A\u001b[2K\u001b[2A\u001b[2K\u001b[2A\u001b[2K\u001b[1A\u001b[2K\u001b[1A\u001b[2KDigest: sha256:15bd3cee31b369f0598a286c830dff9177cd5ec98d81332e4b1d76abb39b6889\n",
      "Status: Downloaded newer image for qdrant/qdrant:latest\n",
      "73179fb9a9854b2b58f43b60eb0d876597a4c6ab109da6562d7fc0396825d4c8\n",
      "docker: Error response from daemon: driver failed programming external connectivity on endpoint qdrant (86a9ade1a88839927ee63b7491edff4aed791a3239e9a88a11c0de1ad3c795cc): Error starting userland proxy: listen tcp4 0.0.0.0:6334: bind: address already in use.\n"
     ]
    }
   ],
   "source": [
    "# Start Qdrant Server\n",
    "# !docker run -d --name qdrant -p 6333:6333 -p 6334:6334 -v \"$(pwd)\\qdrantstorage\" qdrant/qdrant\n",
    "# for mac and linux use the following command\n",
    "!docker run -d --name qdrant -p 6333:6333 -p 6334:6334 -v \"$(pwd)/qdrantstorage:/qdrant/storage\" qdrant/qdrant\n",
    "\n",
    "# If you want to stop and cleanup the Qdrant server, uncomment and run the following commands:\n",
    "# !docker stop qdrant\n",
    "# !docker rm qdrant\n",
    "# !rm -rf labs/03-orchestration/03-Qdrant/qdrantstorage"
   ]
  },
  {
   "cell_type": "markdown",
   "metadata": {},
   "source": [
    "## Load Movies into Qdrant\n",
    "\n",
    "Now that we have the Qdrant server running and persisting data locally, let's load the movies into the vector store.\n",
    "\n",
    "We'll configure Langchain to use Qdrant as the vector store, embed the loaded documents and store the embeddings in the vector store.\n",
    "\n",
    "**NOTE**: Depending on the number of movies loaded and rate limiting, this might take a while."
   ]
  },
  {
   "cell_type": "code",
   "execution_count": 5,
   "metadata": {},
   "outputs": [],
   "source": [
    "from langchain.vectorstores import Qdrant\n",
    "\n",
    "url = \"http://localhost:6333\"\n",
    "qdrant = Qdrant.from_documents(\n",
    "    data,\n",
    "    embeddings,\n",
    "    url=url,\n",
    "    prefer_grpc=False,\n",
    "    collection_name=\"my_movies\",\n",
    ")"
   ]
  },
  {
   "cell_type": "markdown",
   "metadata": {},
   "source": [
    "**NOTE:** After this has run, you can, if you  wish, browse the structure of the persisted data. You should see a `qdrantstorage` folder in the same location as this lab."
   ]
  },
  {
   "attachments": {},
   "cell_type": "markdown",
   "metadata": {},
   "source": [
    "## Vector Store Searching using Qdrant\n",
    "\n",
    "Now we are going to demonstrate how the results of searching a vector store can be affected by using different search methods.\n",
    "\n",
    "The most common method used is a similarity search. This search method aims to return the most similar documents to the query text, using a metric such as cosine similarity."
   ]
  },
  {
   "cell_type": "code",
   "execution_count": 6,
   "metadata": {},
   "outputs": [
    {
     "name": "stdout",
     "output_type": "stream",
     "text": [
      "Source Code\n",
      "The Butterfly Effect 3: Revelations\n",
      "Trance\n",
      "Mirrors\n"
     ]
    }
   ],
   "source": [
    "vectorstore = qdrant\n",
    "\n",
    "query = \"Can you suggest similar movies to The Matrix?\"\n",
    "\n",
    "query_results = qdrant.similarity_search(query)\n",
    "\n",
    "for doc in query_results:\n",
    "    print(doc.metadata['source'])"
   ]
  },
  {
   "attachments": {},
   "cell_type": "markdown",
   "metadata": {},
   "source": [
    "Another commonly used method is MMR - Maximal Marginal Relevance - which also executes a similarity search, but the algorithm is geared towards returning a more diverse set of results."
   ]
  },
  {
   "cell_type": "code",
   "execution_count": 7,
   "metadata": {},
   "outputs": [
    {
     "name": "stdout",
     "output_type": "stream",
     "text": [
      "Source Code\n",
      "Immortals\n",
      "The Empire Strikes Back\n",
      "Cats\n"
     ]
    }
   ],
   "source": [
    "retriever = vectorstore.as_retriever(search_type=\"mmr\")\n",
    "\n",
    "query = \"Can you suggest similar movies to The Matrix?\"\n",
    "\n",
    "for doc in retriever.get_relevant_documents(query):\n",
    "    print(doc.metadata['source'])\n"
   ]
  },
  {
   "cell_type": "markdown",
   "metadata": {},
   "source": [
    "In both of the above examples, a list of movies will have been returned. Both should be relevant to the query, but the MMR search should return a more diverse set of results. To explain that a little more, the first set of results might, for example, all be from the same genre, whereas the MMR search would return results from a wider range of genres."
   ]
  },
  {
   "cell_type": "markdown",
   "metadata": {},
   "source": [
    "## Vector Store Searching using Langchain Retriever\n",
    "\n",
    "In this part we will use Langchain to search the Qdrant vector store and parse the results via a large language model. This is different from the previous section where we were simply returning the results of a Qdrant search directly.\n",
    "\n",
    "As you will have seen in the **02-Embeddings** lab, we can use the `VectorstoreIndexCreator` to quickly create a vector store index and a retriever.\n"
   ]
  },
  {
   "cell_type": "code",
   "execution_count": 8,
   "metadata": {},
   "outputs": [],
   "source": [
    "from langchain.indexes import VectorstoreIndexCreator\n",
    "from langchain.chains import RetrievalQA\n",
    "\n",
    "index_creator = VectorstoreIndexCreator(embedding=embeddings)\n",
    "docsearch = index_creator.from_loaders([loader])"
   ]
  },
  {
   "attachments": {},
   "cell_type": "markdown",
   "metadata": {},
   "source": [
    "Now we can use a Langchain QA (Question Answering) retrieval chain to ask questions about the movies."
   ]
  },
  {
   "cell_type": "code",
   "execution_count": 9,
   "metadata": {},
   "outputs": [
    {
     "name": "stdout",
     "output_type": "stream",
     "text": [
      "Yes, the data provided includes a 'popularity' value for each movie entry.\n"
     ]
    }
   ],
   "source": [
    "chain = RetrievalQA.from_chain_type(llm=llm, chain_type=\"stuff\", retriever=docsearch.vectorstore.as_retriever(), input_key=\"question\", return_source_documents=True)\n",
    "\n",
    "query = \"Do you have a column called popularity?\"\n",
    "response = chain.invoke({\"question\": query})\n",
    "print(response['result'])"
   ]
  },
  {
   "cell_type": "markdown",
   "metadata": {},
   "source": [
    "You can see that we've retrieved a set of search results from the vector store, and then used the LLM to parse the results and provide a natural language answer to the question.\n",
    "\n",
    "We can also see the documents that were retrieved from the search."
   ]
  },
  {
   "cell_type": "code",
   "execution_count": 10,
   "metadata": {},
   "outputs": [
    {
     "name": "stdout",
     "output_type": "stream",
     "text": [
      "[Document(page_content=\"id: 3537.0\\noriginal_language: en\\noriginal_title: Fame\\npopularity: 7.651\\nrelease_date: 1980-05-16\\nvote_average: 6.5\\nvote_count: 320.0\\ngenre: ['Drama', 'Music']\\noverview: A chronicle of the lives of several teenagers who attend a New York high school for students gifted in the performing arts.\\nrevenue: 42000000.0\\nruntime: 134.0\\ntagline: If they've really got what it takes, it's going to take everything they've got.\", metadata={'row': 321, 'source': 'Fame'}), Document(page_content=\"id: 168098.0\\noriginal_language: en\\noriginal_title: Cell\\npopularity: 25.962\\nrelease_date: 2016-07-06\\nvote_average: 4.6\\nvote_count: 855.0\\ngenre: ['Horror', 'Science Fiction', 'Thriller']\\noverview: When a strange signal pulsates through all cell phone networks worldwide, it starts a murderous epidemic of epic proportions when users become bloodthirsty creatures, and a group of people in New England are among the survivors to deal with the ensuing chaos after.\\nrevenue: 1133031.0\\nruntime: 98.0\\ntagline: When everyone is connected no one is safe.\", metadata={'row': 342, 'source': 'Cell'}), Document(page_content=\"id: 114150.0\\noriginal_language: en\\noriginal_title: Pitch Perfect\\npopularity: 37.711\\nrelease_date: 2012-09-28\\nvote_average: 7.3\\nvote_count: 5582.0\\ngenre: ['Comedy', 'Music', 'Romance']\\noverview: College student Beca knows she does not want to be part of a clique, but that's exactly where she finds herself after arriving at her new school. Thrust in among mean gals, nice gals and just plain weird gals, Beca finds that the only thing they have in common is how well they sing together. She takes the women of the group out of their comfort zone of traditional arrangements and into a world of amazing harmonic combinations in a fight to the top of college music competitions.\\nrevenue: 115400000.0\\nruntime: 112.0\\ntagline: Get pitch slapped.\", metadata={'row': 443, 'source': 'Pitch Perfect'}), Document(page_content=\"id: 416494.0\\noriginal_language: en\\noriginal_title: Status Update\\npopularity: 22.897\\nrelease_date: 2018-02-09\\nvote_average: 7.4\\nvote_count: 375.0\\ngenre: ['Comedy', 'Fantasy', 'Science Fiction']\\noverview: After being uprooted by his parents' separation and unable to fit into his new hometown, a teenager stumbles upon a magical app that causes his social media updates to come true.\\nrevenue: 0.0\\nruntime: 106.0\\ntagline: Imagine if every time you updated your status your dreams came true\", metadata={'row': 386, 'source': 'Status Update'})]\n"
     ]
    }
   ],
   "source": [
    "print(response['source_documents'])"
   ]
  },
  {
   "cell_type": "markdown",
   "metadata": {},
   "source": [
    "We could ask a different question, such as \"What is the name of the most popular movie?\"."
   ]
  },
  {
   "cell_type": "code",
   "execution_count": 11,
   "metadata": {},
   "outputs": [
    {
     "name": "stdout",
     "output_type": "stream",
     "text": [
      "The most popular movie in the data provided, based on the popularity score, is \"Suicide Squad,\" with a popularity score of 76.03.\n"
     ]
    }
   ],
   "source": [
    "query = \"If the popularity score is defined as a higher value being a more popular movie, what is the name of the most popular movie in the data provided?\"\n",
    "response = chain.invoke({\"question\": query})\n",
    "print(response['result'])"
   ]
  },
  {
   "cell_type": "markdown",
   "metadata": {},
   "source": [
    "Again, you'll see that instead of just returning the search result, we've got a natural language answer to the question.\n",
    "\n",
    "And we can see the set of documents that were retrieved, which will be different to those returned for the previous question because we asked a different question."
   ]
  },
  {
   "cell_type": "code",
   "execution_count": 12,
   "metadata": {},
   "outputs": [
    {
     "name": "stdout",
     "output_type": "stream",
     "text": [
      "[Document(page_content=\"id: 3537.0\\noriginal_language: en\\noriginal_title: Fame\\npopularity: 7.651\\nrelease_date: 1980-05-16\\nvote_average: 6.5\\nvote_count: 320.0\\ngenre: ['Drama', 'Music']\\noverview: A chronicle of the lives of several teenagers who attend a New York high school for students gifted in the performing arts.\\nrevenue: 42000000.0\\nruntime: 134.0\\ntagline: If they've really got what it takes, it's going to take everything they've got.\", metadata={'row': 321, 'source': 'Fame'}), Document(page_content=\"id: 168098.0\\noriginal_language: en\\noriginal_title: Cell\\npopularity: 25.962\\nrelease_date: 2016-07-06\\nvote_average: 4.6\\nvote_count: 855.0\\ngenre: ['Horror', 'Science Fiction', 'Thriller']\\noverview: When a strange signal pulsates through all cell phone networks worldwide, it starts a murderous epidemic of epic proportions when users become bloodthirsty creatures, and a group of people in New England are among the survivors to deal with the ensuing chaos after.\\nrevenue: 1133031.0\\nruntime: 98.0\\ntagline: When everyone is connected no one is safe.\", metadata={'row': 342, 'source': 'Cell'}), Document(page_content=\"id: 211672.0\\noriginal_language: en\\noriginal_title: Minions\\npopularity: 35.062\\nrelease_date: 2015-06-17\\nvote_average: 6.4\\nvote_count: 8957.0\\ngenre: ['Family', 'Animation', 'Adventure', 'Comedy']\\noverview: Minions Stuart, Kevin and Bob are recruited by Scarlet Overkill, a super-villain who, alongside her inventor husband Herb, hatches a plot to take over the world.\\nrevenue: 1156730962.0\\nruntime: 91.0\\ntagline: Before Gru, they had a history of bad bosses\", metadata={'row': 435, 'source': 'Minions'}), Document(page_content=\"id: 297761.0\\noriginal_language: en\\noriginal_title: Suicide Squad\\npopularity: 76.03\\nrelease_date: 2016-08-03\\nvote_average: 5.9\\nvote_count: 18110.0\\ngenre: ['Action', 'Adventure', 'Fantasy']\\noverview: From DC Comics comes the Suicide Squad, an antihero team of incarcerated supervillains who act as deniable assets for the United States government, undertaking high-risk black ops missions in exchange for commuted prison sentences.\\nrevenue: 746846894.0\\nruntime: 123.0\\ntagline: Worst Heroes Ever\", metadata={'row': 454, 'source': 'Suicide Squad'})]\n"
     ]
    }
   ],
   "source": [
    "print(response['source_documents'])"
   ]
  },
  {
   "cell_type": "markdown",
   "metadata": {},
   "source": [
    "## Next Section\n",
    "\n",
    "📣 [Azure AI Search with Semantic Kernel and C#](../04-ACS/acs-sk-csharp.ipynb)\n",
    "\n",
    "📣 [Azure AI Search with Semantic Kernel and Python](../04-ACS/acs-sk-python.ipynb)\n",
    "\n",
    "📣 [Azure AI Search with Langchain and Python](../04-ACS/acs-lc-python.ipynb)"
   ]
  }
 ],
 "metadata": {
  "kernelspec": {
   "display_name": "Python 3",
   "language": "python",
   "name": "python3"
  },
  "language_info": {
   "codemirror_mode": {
    "name": "ipython",
    "version": 3
   },
   "file_extension": ".py",
   "mimetype": "text/x-python",
   "name": "python",
   "nbconvert_exporter": "python",
   "pygments_lexer": "ipython3",
   "version": "3.11.8"
  },
  "orig_nbformat": 4
 },
 "nbformat": 4,
 "nbformat_minor": 2
}
