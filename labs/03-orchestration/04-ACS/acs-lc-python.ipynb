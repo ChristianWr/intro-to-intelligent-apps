{
 "cells": [
  {
   "attachments": {},
   "cell_type": "markdown",
   "metadata": {},
   "source": [
    "# 04 - AI Orchestration with Azure AI Search\n",
    "**(Langchain / Python version)**\n",
    "\n",
    "In this lab, we will do a deeper dive into using Azure AI Search as a vector store, the different search methods it supports and how you can use it as part of the Retrieval Augmented Generation (RAG) pattern for working with large language models."
   ]
  },
  {
   "cell_type": "markdown",
   "metadata": {},
   "source": [
    "## Create an Azure AI Search Vector Store in Azure\n",
    "\n",
    "First, we will create an Azure AI Search service in Azure. The following are command line instructions and require the Azure CLI to be installed.\n",
    "\n",
    "**NOTE:** Before running the commands, replace the **`<INITIALS>`** with your own initials or some random characters, as we need to provide a unique name for the Azure AI Search service."
   ]
  },
  {
   "cell_type": "code",
   "execution_count": 6,
   "metadata": {},
   "outputs": [
    {
     "name": "stdout",
     "output_type": "stream",
     "text": [
      "{\n",
      "  \"id\": \"/subscriptions/5de6ce13-eb75-4963-80be-88befe8b9845/resourceGroups/azure-ai-search-rg\",\n",
      "  \"location\": \"westeurope\",\n",
      "  \"managedBy\": null,\n",
      "  \"name\": \"azure-ai-search-rg\",\n",
      "  \"properties\": {\n",
      "    \"provisioningState\": \"Succeeded\"\n",
      "  },\n",
      "  \"tags\": null,\n",
      "  \"type\": \"Microsoft.Resources/resourceGroups\"\n",
      "}\n",
      "\u001b[K{- Finished ..\n",
      "  \"authOptions\": {\n",
      "    \"apiKeyOnly\": {}\n",
      "  },\n",
      "  \"disableLocalAuth\": false,\n",
      "  \"encryptionWithCmk\": {\n",
      "    \"encryptionComplianceStatus\": \"Compliant\",\n",
      "    \"enforcement\": \"Unspecified\"\n",
      "  },\n",
      "  \"hostingMode\": \"default\",\n",
      "  \"id\": \"/subscriptions/5de6ce13-eb75-4963-80be-88befe8b9845/resourceGroups/azure-ai-search-rg/providers/Microsoft.Search/searchServices/ai-vectorstore-chw\",\n",
      "  \"location\": \"West Europe\",\n",
      "  \"name\": \"ai-vectorstore-chw\",\n",
      "  \"networkRuleSet\": {\n",
      "    \"ipRules\": []\n",
      "  },\n",
      "  \"partitionCount\": 1,\n",
      "  \"privateEndpointConnections\": [],\n",
      "  \"provisioningState\": \"succeeded\",\n",
      "  \"publicNetworkAccess\": \"Enabled\",\n",
      "  \"replicaCount\": 1,\n",
      "  \"resourceGroup\": \"azure-ai-search-rg\",\n",
      "  \"semanticSearch\": \"free\",\n",
      "  \"sharedPrivateLinkResources\": [],\n",
      "  \"sku\": {\n",
      "    \"name\": \"basic\"\n",
      "  },\n",
      "  \"status\": \"running\",\n",
      "  \"statusDetails\": \"\",\n",
      "  \"type\": \"Microsoft.Search/searchServices\"\n",
      "}\n"
     ]
    }
   ],
   "source": [
    "RESOURCE_GROUP=\"azure-ai-search-rg\"\n",
    "LOCATION=\"westeurope\"\n",
    "NAME=\"ai-vectorstore-chw\"\n",
    "!az group create --name $RESOURCE_GROUP --location $LOCATION --subscription \"Sandbox 1\"\n",
    "!az search service create -g $RESOURCE_GROUP -n $NAME -l $LOCATION --subscription \"Sandbox 1\" --sku Basic --partition-count 1 --replica-count 1"
   ]
  },
  {
   "cell_type": "markdown",
   "metadata": {},
   "source": [
    "Next, we need to find and update the following values in the `.env` file with the Azure AI Search **name**, **endpoint** and **admin key** values, which you can get from the Azure portal. You also need to provide an **index name** value. The index will be created during this lab, so you can use any name you like.\n",
    "\n",
    "```\n",
    "AZURE_AI_SEARCH_SERVICE_NAME = \"<YOUR AZURE AI SEARCH SERVICE NAME - e.g. ai-vectorstore-xyz>\"\n",
    "AZURE_AI_SEARCH_ENDPOINT = \"<YOUR AZURE AI SEARCH ENDPOINT URL - e.g. https://ai-vectorstore-xyz.search.windows.net\"\n",
    "AZURE_AI_SEARCH_INDEX_NAME = \"<YOUR AZURE AI SEARCH INDEX NAME - e.g. ai-search-index>\"\n",
    "AZURE_AI_SEARCH_API_KEY = \"<YOUR AZURE AI SEARCH ADMIN API KEY - e.g. get this value from the Azure portal>\"\n",
    "```"
   ]
  },
  {
   "cell_type": "markdown",
   "metadata": {},
   "source": [
    "## Load environment variable values\n",
    "As with previous labs, we'll use the values from the `.env` file in the root of this repository."
   ]
  },
  {
   "cell_type": "code",
   "execution_count": 1,
   "metadata": {},
   "outputs": [
    {
     "name": "stdout",
     "output_type": "stream",
     "text": [
      "This lab exercise will use the following values:\n",
      "Azure OpenAI Endpoint: https://openai-sweden-testing.openai.azure.com/\n",
      "Azure AI Search: ai-vectorstore-chw\n"
     ]
    }
   ],
   "source": [
    "import os\n",
    "from dotenv import load_dotenv\n",
    "\n",
    "# Load environment variables\n",
    "if load_dotenv():\n",
    "    print(\"This lab exercise will use the following values:\")\n",
    "    print(\"Azure OpenAI Endpoint: \" + os.getenv(\"AZURE_OPENAI_ENDPOINT\"))\n",
    "    print(\"Azure AI Search: \" + os.getenv(\"AZURE_AI_SEARCH_SERVICE_NAME\"))\n",
    "else: \n",
    "    print(\"No file .env found\")\n",
    "\n",
    "azure_openai_api_key = os.getenv(\"AZURE_OPENAI_API_KEY\")\n",
    "azure_openai_endpoint = os.getenv(\"AZURE_OPENAI_ENDPOINT\")\n",
    "openai_api_version = os.getenv(\"OPENAI_API_VERSION\")\n",
    "azure_openai_completion_deployment_name = os.getenv(\"AZURE_OPENAI_COMPLETION_DEPLOYMENT_NAME\")\n",
    "azure_openai_embedding_deployment_name = os.getenv(\"AZURE_OPENAI_EMBEDDING_DEPLOYMENT_NAME\")\n",
    "azure_ai_search_name = os.getenv(\"AZURE_AI_SEARCH_SERVICE_NAME\")\n",
    "azure_ai_search_endpoint = os.getenv(\"AZURE_AI_SEARCH_ENDPOINT\")\n",
    "azure_ai_search_index_name = os.getenv(\"AZURE_AI_SEARCH_INDEX_NAME\")\n",
    "azure_ai_search_api_key = os.getenv(\"AZURE_AI_SEARCH_API_KEY\")"
   ]
  },
  {
   "attachments": {},
   "cell_type": "markdown",
   "metadata": {},
   "source": [
    "First, we will load the data from the movies.csv file and then extract a subset to load into the Azure AI Search index. We do this to help avoid the Azure OpenAI embedding limits and long loading times when inserting data into the index. We use a Langchain document loader to do this."
   ]
  },
  {
   "cell_type": "code",
   "execution_count": 2,
   "metadata": {},
   "outputs": [
    {
     "name": "stdout",
     "output_type": "stream",
     "text": [
      "Loaded 50 movies.\n"
     ]
    }
   ],
   "source": [
    "from langchain.document_loaders.csv_loader import CSVLoader\n",
    "\n",
    "loader = CSVLoader(file_path='./movies.csv', source_column='original_title', encoding='utf-8', csv_args={'delimiter':',', 'fieldnames': ['id', 'original_language', 'original_title', 'popularity', 'release_date', 'vote_average', 'vote_count', 'genre', 'overview', 'revenue', 'runtime', 'tagline']})\n",
    "data = loader.load()\n",
    "\n",
    "# Rather than load all 500 movies into Azure AI search, we will use a\n",
    "# smaller subset of movie data to make things quicker. The more movies you load,\n",
    "# the more time it will take for embeddings to be generated.\n",
    "\n",
    "data = data[1:51]\n",
    "print('Loaded %s movies.' % len(data))"
   ]
  },
  {
   "attachments": {},
   "cell_type": "markdown",
   "metadata": {},
   "source": [
    "During this lab, we will need to work with embeddings. We use embeddings to create a vector representation of a piece of text. We will need to create embeddings for the documents we want to store in our Azure AI Search index and also for the queries we want to use to search the index. We will create an Azure OpenAI client to do this."
   ]
  },
  {
   "cell_type": "code",
   "execution_count": 3,
   "metadata": {},
   "outputs": [],
   "source": [
    "from langchain_openai import AzureOpenAIEmbeddings\n",
    "\n",
    "azure_openai_embeddings = AzureOpenAIEmbeddings(\n",
    "    azure_deployment = os.getenv(\"AZURE_OPENAI_EMBEDDING_DEPLOYMENT_NAME\"),\n",
    "    openai_api_version = os.getenv(\"OPENAI_EMBEDDING_API_VERSION\"),\n",
    "    model= os.getenv(\"AZURE_OPENAI_EMBEDDING_MODEL\")\n",
    ")"
   ]
  },
  {
   "cell_type": "markdown",
   "metadata": {},
   "source": [
    "## Create an Azure AI Search index and load movie data\n",
    "\n",
    "Next, we'll step through the process of configuring an Azure AI Search index to store our movie data and then loading the data into the index. "
   ]
  },
  {
   "cell_type": "code",
   "execution_count": 4,
   "metadata": {},
   "outputs": [],
   "source": [
    "from azure.core.credentials import AzureKeyCredential\n",
    "from azure.search.documents import SearchClient\n",
    "from azure.search.documents.indexes import SearchIndexClient\n",
    "from azure.search.documents.indexes.models import (\n",
    "    VectorSearch,\n",
    "    VectorSearchProfile,\n",
    "    HnswAlgorithmConfiguration,\n",
    "    SemanticPrioritizedFields,\n",
    "    SemanticSearch,\n",
    "    SemanticField,\n",
    "    SemanticConfiguration,\n",
    "    SimpleField,\n",
    "    SearchableField,\n",
    "    SearchField,\n",
    "    SearchFieldDataType,\n",
    "    SearchIndex\n",
    ")\n",
    "from azure.search.documents.models import (\n",
    "    VectorizedQuery\n",
    ")"
   ]
  },
  {
   "cell_type": "markdown",
   "metadata": {},
   "source": [
    "When configuring an Azure AI Search index, we need to specify the fields we want to store in the index and the data types for each field. These match the fields in the movie data, containing values such as the movie title, genre, year of release and so on.\n",
    "\n",
    "To use Azure AI Search as a vector store, we will also need to define a field to hold the vector representaion of the movie data. We indicate to Azure AI Search that this field will contain vector data by providing details of the vector dimensions and a profile. We'll also define the vector search configuration and profile with default values.\n",
    "\n",
    "**NOTE:** It is possible just to use Azure AI Search as a vector store only, in which case we probably wouldn't need to define all of the index fields below. However, in this lab, we're also going to demonstrate Hybrid Search, a feature which makes use of both traditional keyword based search in combination with vector search."
   ]
  },
  {
   "cell_type": "code",
   "execution_count": 5,
   "metadata": {},
   "outputs": [],
   "source": [
    "fields = [\n",
    "    SimpleField(name=\"id\", type=SearchFieldDataType.String, key=True, sortable=True, filterable=True, facetable=True),\n",
    "    SearchableField(name=\"title\", type=SearchFieldDataType.String),\n",
    "    SearchableField(name=\"overview\", type=SearchFieldDataType.String),\n",
    "    SearchableField(name=\"genre\", type=SearchFieldDataType.String),\n",
    "    SearchableField(name=\"tagline\", type=SearchFieldDataType.String),\n",
    "    SearchableField(name=\"release_date\", type=SearchFieldDataType.DateTimeOffset, sortable=True),\n",
    "    SearchableField(name=\"popularity\", type=SearchFieldDataType.Double, sortable=True),\n",
    "    SearchableField(name=\"vote_average\", type=SearchFieldDataType.Double, sortable=True),\n",
    "    SearchableField(name=\"vote_count\", type=SearchFieldDataType.Int32, sortable=True),\n",
    "    SearchableField(name=\"runtime\", type=SearchFieldDataType.Int32, sortable=True),\n",
    "    SearchableField(name=\"revenue\", type=SearchFieldDataType.Int64, sortable=True),\n",
    "    SearchableField(name=\"original_language\", type=SearchFieldDataType.String),\n",
    "    SearchField(name=\"vector\", type=SearchFieldDataType.Collection(SearchFieldDataType.Single), searchable=True, vector_search_dimensions=1536, vector_search_profile_name=\"movies-vector-profile\"),\n",
    "]\n",
    "\n",
    "vector_search = VectorSearch(\n",
    "    profiles=[VectorSearchProfile(name=\"movies-vector-profile\", algorithm_configuration_name=\"movies-vector-config\")],\n",
    "    algorithms=[HnswAlgorithmConfiguration(name=\"movies-vector-config\")],\n",
    ")"
   ]
  },
  {
   "cell_type": "markdown",
   "metadata": {},
   "source": [
    "We're going to be using Semantic Ranking, a feature of Azure AI Search that improves search results by using language understanding to rerank the search results. We provide a Semantic Search Configuration to help the ranking model understand the movie data, by telling it which fields contain the movie title, which fields contain keywords and which fields contain general free text content."
   ]
  },
  {
   "cell_type": "code",
   "execution_count": 6,
   "metadata": {},
   "outputs": [],
   "source": [
    "semantic_config = SemanticConfiguration(\n",
    "    name=\"movies-semantic-config\",\n",
    "    prioritized_fields=SemanticPrioritizedFields(\n",
    "        title_field=SemanticField(field_name=\"title\"),\n",
    "        keywords_fields=[SemanticField(field_name=\"genre\")],\n",
    "        content_fields=[SemanticField(field_name=\"title\"),\n",
    "                        SemanticField(field_name=\"overview\"),\n",
    "                        SemanticField(field_name=\"tagline\"),\n",
    "                        SemanticField(field_name=\"genre\"),\n",
    "                        SemanticField(field_name=\"release_date\"),\n",
    "                        SemanticField(field_name=\"popularity\"),\n",
    "                        SemanticField(field_name=\"vote_average\"),\n",
    "                        SemanticField(field_name=\"vote_count\"),\n",
    "                        SemanticField(field_name=\"runtime\"),\n",
    "                        SemanticField(field_name=\"revenue\"),\n",
    "                        SemanticField(field_name=\"original_language\")],\n",
    "    )\n",
    ")\n",
    "\n",
    "semantic_search = SemanticSearch(configurations=[semantic_config])"
   ]
  },
  {
   "cell_type": "markdown",
   "metadata": {},
   "source": [
    "Finally, we'll go ahead and create the index by creating an instance of the `SearchIndex` class and adding the keyword and vectors fields and the semantic search profile."
   ]
  },
  {
   "cell_type": "code",
   "execution_count": 7,
   "metadata": {},
   "outputs": [
    {
     "name": "stdout",
     "output_type": "stream",
     "text": [
      "Index ai-search-index created.\n"
     ]
    }
   ],
   "source": [
    "# Create the search index with the desired vector search and semantic configurations\n",
    "index = SearchIndex(\n",
    "    name=azure_ai_search_index_name,\n",
    "    fields=fields,\n",
    "    vector_search=vector_search,\n",
    "    semantic_search=semantic_search\n",
    ")\n",
    "\n",
    "index_client = SearchIndexClient(\n",
    "    azure_ai_search_endpoint,\n",
    "    AzureKeyCredential(azure_ai_search_api_key)\n",
    ")\n",
    "\n",
    "result = index_client.create_or_update_index(index)\n",
    "\n",
    "print(f'Index {result.name} created.')"
   ]
  },
  {
   "cell_type": "markdown",
   "metadata": {},
   "source": [
    "The index is now ready, so next we need to prepare the movie data to load into the index.\n",
    "\n",
    "**NOTE**: During this phase, we send the data for each movie to an Azure OpenAI embeddings model to create the vector data. This may take some time due to rate limiting in the API."
   ]
  },
  {
   "cell_type": "code",
   "execution_count": 8,
   "metadata": {},
   "outputs": [
    {
     "name": "stdout",
     "output_type": "stream",
     "text": [
      "Movie Hidden Figures added.\n",
      "Movie Gridlocked added.\n",
      "Movie Joker added.\n",
      "Movie The Sand added.\n",
      "Movie America added.\n",
      "Movie 僕のヒーローアカデミア THE MOVIE ～2人の英雄～ added.\n",
      "Movie Under Siege 2 added.\n",
      "Movie The Enforcer added.\n",
      "Movie Ruby Sparks added.\n",
      "Movie They Came Together added.\n",
      "Movie The Handmaid's Tale added.\n",
      "Movie Броненосец Потёмкин added.\n",
      "Movie Enemy of the State added.\n",
      "Movie Pistol Whipped added.\n",
      "Movie 맛있는 비행 added.\n",
      "Movie Wheelman added.\n",
      "Movie Raising Arizona added.\n",
      "Movie Rampage added.\n",
      "Movie Evolution added.\n",
      "Movie Man on Wire added.\n",
      "Movie Work It added.\n",
      "Movie Step Sisters added.\n",
      "Movie Pirates of the Caribbean added.\n",
      "Movie I Don't Know How She Does It added.\n",
      "Movie The Wrestler added.\n",
      "Movie The Sisterhood of the Traveling Pants added.\n",
      "Movie Charlie Wilson's War added.\n",
      "Movie El Infierno added.\n",
      "Movie Una última y nos vamos added.\n",
      "Movie Immortals added.\n",
      "Movie Pandorum added.\n",
      "Movie Women added.\n",
      "Movie Hotel Transylvania 3 added.\n",
      "Movie Alex Strangelove added.\n",
      "Movie The Painted Veil added.\n",
      "Movie Johnson Family Vacation added.\n",
      "Movie John Tucker Must Die added.\n",
      "Movie Tinker Bell added.\n",
      "Movie Under Suspicion added.\n",
      "Movie Legends of Oz added.\n",
      "Movie メトロポリス added.\n",
      "Movie Catch Me If You Can added.\n",
      "Movie Beowulf added.\n",
      "Movie The Bucket List added.\n",
      "Movie Veronica Mars added.\n",
      "Movie When the Bough Breaks added.\n",
      "Movie Fear of Rain added.\n",
      "Movie Max added.\n",
      "Movie Perfume added.\n",
      "Movie The Miseducation of Cameron Post added.\n",
      "New items structure with embeddings created for 50 movies.\n"
     ]
    }
   ],
   "source": [
    "# Loop through all of the movies and create a new item for each one.\n",
    "\n",
    "items = []\n",
    "for movie in data:\n",
    "    content = movie.page_content\n",
    "    fields = movie.page_content.split('\\n')\n",
    "    movieId = (fields[0].split(': ')[1])[:-2]\n",
    "    movieTitle = (fields[2].split(': ')[1])\n",
    "    movieOverview = (fields[8].split(': ')[1])\n",
    "    movieGenre = (fields[7].split(': ')[1])[1:-1]\n",
    "    movieTagline = (fields[11].split(': ')[1])\n",
    "    movieReleaseDate = (fields[4].split(': ')[1])\n",
    "    moviePopularity = (fields[3].split(': ')[1])\n",
    "    movieVoteAverage = (fields[5].split(': ')[1])\n",
    "    movieVoteCount = (fields[6].split(': ')[1])\n",
    "    movieRuntime = (fields[10].split(': ')[1])\n",
    "    movieRevenue = (fields[9].split(': ')[1])\n",
    "    movieOriginalLanguage = (fields[1].split(': ')[1])\n",
    "\n",
    "    items.append(dict([\n",
    "        (\"id\", movieId), \n",
    "        (\"title\", movieTitle),\n",
    "        (\"overview\", movieOverview),\n",
    "        (\"genre\", movieGenre),\n",
    "        (\"tagline\", movieTagline),\n",
    "        (\"release_date\", movieReleaseDate),\n",
    "        (\"popularity\", moviePopularity),\n",
    "        (\"vote_average\", movieVoteAverage),\n",
    "        (\"vote_count\", movieVoteCount),\n",
    "        (\"runtime\", movieRuntime),\n",
    "        (\"revenue\", movieRevenue),\n",
    "        (\"original_language\", movieOriginalLanguage),\n",
    "        (\"vector\", azure_openai_embeddings.embed_query(content))\n",
    "    ]))\n",
    "\n",
    "    print(f\"Movie {movieTitle} added.\")\n",
    "\n",
    "print(f\"New items structure with embeddings created for {len(items)} movies.\")"
   ]
  },
  {
   "cell_type": "markdown",
   "metadata": {},
   "source": [
    "We can write out the contents of one of the documents to see what it looks like. You can see that it contains the movie data at the top and then a long array containing the vector data."
   ]
  },
  {
   "cell_type": "code",
   "execution_count": 9,
   "metadata": {},
   "outputs": [
    {
     "name": "stdout",
     "output_type": "stream",
     "text": [
      "{'id': '381284', 'title': 'Hidden Figures', 'overview': 'The untold story of Katherine G. Johnson, Dorothy Vaughan and Mary Jackson – brilliant African-American women working at NASA and serving as the brains behind one of the greatest operations in history – the launch of astronaut John Glenn into orbit. The visionary trio crossed all gender and race lines to inspire generations to dream big.', 'genre': \"'Drama', 'History'\", 'tagline': \"Meet the women you don't know, behind the mission you do.\", 'release_date': '2016-12-10', 'popularity': '49.802', 'vote_average': '8.1', 'vote_count': '7310.0', 'runtime': '127.0', 'revenue': '230698791.0', 'original_language': 'en', 'vector': [-0.007291263298045165, -0.022922893156763043, -0.020431273606514578, -0.028535592724720317, 0.01314001123979203, -0.007586323532451499, -0.003109605890241679, -0.021886904779222414, -0.03973476395310626, -0.03524984950771712, 0.01977558523152563, 0.011127044948343589, -0.01740199033383327, -0.03469906903755212, -0.012917076819766742, 0.015461150322427182, 0.008615755864432594, -0.02929619086717845, 0.011704051463391955, -0.022109839199247704, -0.006740484690525403, 0.01581522334877288, 0.012208932629720585, 0.025899722477032375, -0.011258182623341379, 9.230873963597344e-05, 0.016864324748755193, -0.022817983389293858, 0.010032044244524908, -0.03947248860311068, 0.003217794611813248, -0.008648540283182042, -0.0007396993211493591, -0.022831096411735544, -0.03328278065745981, 0.0001719134966338538, -0.014844802877408525, -0.03561703648782711, 0.022450796409183862, 0.010012373779539762, 0.010300877037063946, 0.015644742881159565, -0.006651966666769633, -0.003109605890241679, -0.020418160584072892, 0.02753894527714998, 0.029060143424711474, -0.012143362860899074, 0.011795848208419455, 0.02908637133224008, -0.004419345142228942, 0.03438433787249933, -0.012084351465943638, -0.02186067687169381, -0.00899605493566166, 0.01367767589354749, -0.003812832464041549, 0.034043380662563176, -0.0029145382727195517, 0.00370464374246998, 0.008320695164364952, -0.012195818675956283, -0.031237031809907154, 0.007619107951200947, 0.0029932210639827487, -0.006114301547352865, -0.03590553788270606, 0.006510993293617963, -0.012359740769703519, 0.0007802701208425291, 0.01892318848139477, 0.007612550974318796, 0.007468299345556704, 0.0041996889778140745, 0.03603667555770385, -0.03540721322759827, -0.018162590338936635, -0.011540129369644719, -0.010176295873286998, 0.005514345846047624, 0.003665302346838382, -0.01023530819956505, -0.004035766884066838, -0.00033317205135337084, -0.012982645657265635, 0.012281057978440323, -0.023368761996813623, 0.03490889229778096, -0.015067737297433815, 0.005586471660428669, 0.004665228282849797, 0.00490783316786023, -0.0029030636795911143, 0.016195521488679327, -0.006996203529300139, 0.006288058873592675, -0.016287318233706827, 0.0032473005421216196, -0.0029194558889658376, -0.026424273177023536, -0.011684380998406812, 0.022293430826657468, -0.013317047287303568, -0.014123544733598068, -0.011959770302166692, -0.01571031171865846, 0.007979737023106176, 0.017546242893917978, 0.026253794572055456, 0.005445498287276999, -0.009396025403198489, -0.0038521738596731477, 0.02558499131197959, -0.023132714554346647, 0.0020129658257871325, -0.021113191751677363, 0.008615755864432594, 0.01610372660629706, -0.009514050055754593, -0.046396566783691084, 0.015893905208713456, 0.010976236808360655, 0.014346479153623356, -0.017375762426304665, 0.006314286781121279, 0.0036521886259047336, 0.022109839199247704, -0.04351153420844925, 0.00036206336694245215, -0.004865213516618211, 0.04214769791812368, -0.0075928805093336505, 0.03454170531767096, -0.010733631923350221, -0.026253794572055456, 0.00858952795690399, -0.021441035939171838, 0.026555410852021323, -0.012215489140941428, -0.005570079451053945, -0.008517402608184253, 0.030607569479801578, -0.0032997556586868665, 0.014530071712355737, -0.04172805884824694, 0.0010941812563314034, 0.015067737297433815, -0.016654505213816822, 0.0027506159461416608, -0.003599733509339487, 0.005796292126689656, 0.009514050055754593, 0.019696901508939817, -0.00818300097814632, 0.02233277361927299, -0.011651596579657364, 0.013703903801076094, 0.01572342660374538, -0.008700995166916635, 0.004068551302816285, -0.00995336145326171, 0.004435737351603666, -0.00038993014034178147, -0.021663970359197125, 0.0317353546023697, 0.021414808031643234, -0.006806053528024297, -0.027040620622042193, -0.026712776434547718, -0.01981492616149592, -0.006353628176752877, 0.024942415959432328, -0.01376947263857499, 0.0100844991282595, -0.013310489844760109, -0.005458612241041301, 0.012189261233412824, -0.0022965512342343754, -0.03635140672275664, 0.021965586639162996, 0.007389617019954816, 0.029191281099709265, 0.0012769546004071611, -0.005111097122900374, -0.018018337778851926, 0.023867084789276176, 0.0077502460918600444, -0.021873789894135496, 0.029191281099709265, -0.01649713963129043, 0.008294468188158963, 0.013966179151071673, -0.020667322911626786, 0.0012687584957197992, -0.6475061470085726, -0.023932653626775068, 0.006343792478598996, -0.013080998913513978, -0.0038095539756004735, 0.0017867529173207683, 0.016759414981286008, 0.0005298787966807092, -0.01985426709146621, 0.01281216612097494, -0.007881383766857835, 0.02186067687169381, -0.010307433548284789, 0.007881383766857835, -0.03215499739753691, -0.028456909002134503, -0.0032784458330658564, -0.014779234039909632, 0.009474708194461686, -0.004550482817226731, -0.02643738619946522, 0.018529775456401398, -0.0048914409584855075, 0.008097760744339664, 0.02544073875189488, 0.01968378848649813, 0.022490139201799385, -0.01358587914851999, -0.014241568454831554, 0.001660532858569265, -0.006242160966740233, 0.036115357417644434, 0.00023891674558529848, 0.0031046882739953928, 0.04036422628321184, -0.012923633330987583, -0.01826750010640582, 0.026253794572055456, 0.0001760115635294506, 0.04175428489313031, -0.03989212767298742, -0.015290671717459103, 0.014149771709804054, 0.008379707490643004, -0.01140243425210347, 0.027932358302143346, -0.010425457269518275, -0.01749378707886077, -0.002030997162967067, -0.02003786058152121, -0.013703903801076094, 0.025952176429444352, -0.0006278223873930756, 0.011874530999682652, -0.011238512158356233, -0.0036587456027868848, -0.00024506383865273575, 0.016903665678725484, 0.006258553176114957, 0.015225101948637592, 0.0011408991927477584, 0.019893609884081735, -0.012425309607202414, -0.004232473396563522, -0.02767008295214777, 0.03682350160769059, -0.000605283041295167, 0.009114079588217765, -0.0050029081684981516, -0.01491037171490742, 0.010786086807084812, 0.01723151172886519, 0.010589380294588129, 0.014189113571096961, 0.028692958307246712, 0.012313842397189769, 0.05116998262395918, -0.011717165417156257, -0.00026452958728522013, 0.01952642290397174, 0.015369353577399684, -0.023486786649369724, -0.002540795479880674, 0.007337161670558915, 0.01800522475641024, -0.003166978623053212, 0.00046471968292545354, 0.004668507004121527, 0.02005097546660813, -0.008038749349384228, 0.012897405423458979, 0.0064028048048770485, -0.010654949132087024, -0.013428514497316213, 0.02086402942412347, 0.023106486646818043, -0.010963122854596353, 0.010202523780815603, 0.03013547459486763, -0.05250758914411091, -0.008281354234394661, -0.017428218241361874, 0.038239793713073365, -0.0058749749179528524, -0.006609346549866305, -0.020483729421571787, -0.0037800480452921015, 6.474930270012113e-05, 0.03139439739243355, -0.0357481741628249, -0.0119073154184321, -0.013743244731046385, -0.006150364221712733, -0.012871178447252992, 0.013507196357256794, -0.02591283549947406, 0.048363631908657924, -0.00390790746467947, -0.003289920426194294, -0.013480969381050806, 0.012104021930928783, 0.003173535599935363, -0.02184756198660689, -0.01771672149888606, 0.003698086765587829, -0.0016556151259076517, 0.01450384473614975, -0.005655319219199294, -0.014425161944886553, 0.027119304344628007, 0.0017408547776376728, 0.027853676442202765, 0.008464946793127044, 0.009218989355686949, 0.019329716391475054, -0.0070355449249317374, 0.0025096501889364377, -0.013303933333539266, 0.014149771709804054, -0.025821038754446562, -0.011487674485910126, 0.0054651692179234525, 0.008700995166916635, 0.0029096206564732654, -0.004602937700961323, -0.021519717799112416, -0.004691455724717093, -0.003986590255942666, -0.0011728639311792733, 0.000902392185458015, -0.03637763649293048, -0.011336865414604576, 0.004042323860948989, 0.02576858480203459, 0.004757025027877297, -0.010471355642032025, -0.011599141695922771, -0.01036644587456284, 0.010163181919522696, 0.010694290062057315, -0.0058749749179528524, 0.01009105657080296, -0.0053766511941676825, -0.023971996419390594, 0.007022430971167435, -0.010641835178322722, -0.02163774245166852, 0.005170108983517118, -0.009278001681965001, -0.044272130488262146, -0.009704200057030434, -0.01476612008614533, -0.002071977686403876, 0.02349989967181141, 0.024352296421942275, 0.025860379684416852, 0.0019703459417144587, 0.010668063085851326, 0.00785515585932923, -0.0069830895755358365, 0.002086730767973389, -0.000887639220303829, -0.037662787198025, 0.0003247710265865259, 0.03913152766788406, 0.017742949406414663, 0.01934282941391674, -0.007265035856177869, 0.004806201656001467, -0.01696923637886961, -0.03645631835287106, 0.01778229033638495, 0.02329007827422781, 0.011422105648411231, -0.008261683769409518, -0.010353331920798538, 0.028850323889773107, -0.009992702383232, 0.013343274263509557, 0.014871029853614513, 0.03511871183271933, 0.010759858899556208, 0.041046140703084155, -0.0026047251895743584, 0.011343422857148035, -0.0028374948420922196, 0.00995336145326171, -0.022844211296822462, -0.0014335003862002956, -0.034226974152618175, 0.019067441041479474, 0.006556891666131713, -0.00785515585932923, -0.026647207597048823, -0.013467855427286504, 0.004553761072837153, -0.028771640167187293, 0.01786097219632553, -0.03349260391768864, -0.02567678805700709, 1.808267815816378e-05, 0.00010362962087692468, 0.03003056296475321, 0.0052192856116412886, 0.006891293296169646, 0.013507196357256794, 0.020444388491601496, -0.020234567094017893, 0.04044290814315242, -0.010805757272069958, -0.0030505937967942815, 0.014975940552406315, 0.0032014024024385242, 0.008569857491918846, 0.016654505213816822, -0.0041406771171973306, -0.003799718743107901, 0.00043152542401704, 0.013664561939783187, -0.007389617019954816, -0.004593102468468751, -0.006825723993009443, 0.025860379684416852, -0.01592013311624206, -0.024771937354464247, -0.011120488437122746, 0.031368171347550176, 0.011940099837181547, -0.02349989967181141, 0.01870025406136948, -0.015828336371214564, -0.005429106077902275, 0.018503547548872793, 0.03690218719292163, 0.02600463224450156, -0.006166756431087457, 0.020877142446565154, 0.0053766511941676825, 0.030607569479801578, 0.03640386253781385, 0.04004949511815905, 0.009461594240697384, 0.03003056296475321, -0.01557917404366067, -0.012326956350954071, -0.005543852009186649, -0.009966475407026013, 0.011408991694646929, -0.006733927713643252, -0.007383060043072665, -0.001860517975922352, -0.02808972388466974, -0.01727085265883548, -0.013821927522309582, 0.002548991584568036, -0.008189557489367163, -0.001483496694642399, 0.016287318233706827, 0.027066848529570798, 0.028351999234665318, -0.02558499131197959, 0.0003157552997888951, 0.01167126704464251, 0.01586767730118485, -0.016851211726313507, -0.0027522553067775256, -0.004852100028515217, 0.00786171330187269, -0.02191313268675102, 0.014241568454831554, -0.0008925568947577788, 0.010792643318305655, -0.0128187235635184, -0.012018782628444743, -0.010595936805808972, -0.021926245709192705, -0.006442146200508647, -0.009448481218255698, 0.0001341089288387992, -0.010530367968310077, -0.012346626815939217, -0.024352296421942275, -0.0053012466585149074, -0.01209746541970794, 0.028771640167187293, -0.004507863165984711, 0.008412491909392451, -0.010104169593244644, 0.023329421066843332, -0.018910075458953082, 0.010176295873286998, -0.012917076819766742, -0.014307137292330449, 0.008504288654419951, 0.002208033210478606, -0.0055471302647970705, -0.013297375890995807, -0.008117432140647425, 0.02479816339934762, 0.016247977303736536, 0.014490730782385448, -0.033728649497510386, -0.007461742834335861, 0.002342449606748125, 0.07217826274552212, 0.004563596770991034, -0.005920873290466602, 0.02003786058152121, -0.0026391489689596703, 0.013330160309745254, -0.020116544304107024, 0.005806127359182229, -0.009376354938213344, -0.002448998967683829, 0.014844802877408525, 0.009330456565699594, 0.021755767104224624, 0.0018260943129523668, 0.028115951792198345, 0.009802553313278776, -0.004478357002845685, 0.00526846223976546, 0.0020506678607828664, 0.0035341646718405925, -0.029873197382226817, -0.009199318890701804, 0.033649967637569805, 0.0007343718647441066, 0.001378586461511906, -0.030056790872281816, 0.02163774245166852, 0.010615607270794117, -0.007868269813093532, 0.007848599348108387, -0.006996203529300139, 0.009481265637005146, -0.002222786292048119, -0.010851655644583708, 0.004330827118473172, 0.012707256353505754, 0.030791162969856577, 0.0018654357085839653, 0.02968960575481705, -0.01706103126125188, -0.0023096651879986776, 0.012917076819766742, 0.0006962599313817432, -0.008779677958179832, 0.018385524758961925, -0.01476612008614533, 0.0043931172347003375, 0.04776039934872619, 0.011894201464667797, -0.009743540987000724, 0.03163044669754576, 0.0091730909831732, -0.021441035939171838, -0.01227450146721948, 0.006507715038007541, 0.011225398204591931, 0.016195521488679327, -0.006278223641100102, 0.009900906569527117, -0.009422253310727094, 0.004025931651574265, -0.020405047561631206, -0.0020441108839007152, -0.017152828006279375, -0.0012974449785408929, -0.01091066797086176, 0.0019129730924875986, -0.030161700639751, -0.009153420518188056, 0.011428662159632074, -8.119275664663148e-05, -0.02808972388466974, -0.012746597283476045, 0.012976088214722176, 0.002789957341773259, -0.012890848912238137, 0.017887200103854136, -0.008740336096886925, -0.0010630360818024939, -0.00035099861397298095, -0.016680733121345426, -0.05465824775913275, -0.017978996848881636, -0.029060143424711474, 0.008576414003139687, 0.013546538218549701, -0.012215489140941428, 0.005170108983517118, -0.001888384778425513, -0.007081442831784178, 0.01367767589354749, -0.011258182623341379, 0.013100669378499123, -0.002312943443609099, 0.037059550912802795, -0.009933690988276565, 0.028404455049722527, 0.023565468509310305, 0.018713368946456397, -0.006294615850474826, 0.01948708197400145, -0.010458241688267722, 0.0048848844472646645, -0.009435367264491396, -0.0019736244301555342, 0.006638852713005331, -0.011461446578381522, 0.025781697824476275, -0.012936747284751885, -0.025794810846917957, -0.004298042234062416, -0.00881246237692928, 0.012740040772255202, -0.021244329426675153, -0.0013621942521371822, -0.004524255375359435, 0.004514419677205554, -0.002968632749920663, 0.020260795001546497, -0.005730723289190761, 0.01391372426733708, -0.008602641910668292, 0.01994606383649371, 0.00949437865944683, -0.00867476725938803, 0.005973328174201195, -0.0062388822454685034, -0.020457501514043182, -0.01935594429900366, 0.0033259833333848165, -0.010530367968310077, 0.016680733121345426, -0.02580792573200488, -0.000640526326375421, -0.01491037171490742, -0.017323308473892688, -0.03189272204754133, -0.008346923071893556, 0.006897849807390489, 0.005130767587885519, -0.03577440020770827, -0.007514197718070454, 0.005130767587885519, -0.010025487733304065, 0.0053602589847929595, -0.014975940552406315, -0.009455037729476541, -0.01249087844470131, -0.012340070304718374, 0.022542593154211362, -0.003350571647446902, 0.03425320019750154, -0.013297375890995807, -0.028483136909663108, -0.008543629584390242, 0.0028506085630258674, -0.0387905704579479, 0.003540721415892089, 0.03147307925237413, 0.017677380568915768, 0.034174518337560966, -0.00197690291859661, 0.007599437486215802, 0.03029284017739402, 0.01391372426733708, 0.020260795001546497, 0.020260795001546497, 0.007940396093135887, -0.028640502492189503, 0.0017834745452950198, 0.015972587068654037, 0.0034390896712026718, 0.0018260943129523668, -0.006025783523597095, -0.008071533768133675, 0.0059044810810918785, -0.002945683563663788, 0.00360956874183206, -0.006989646552417988, -0.03616781323270164, -0.004389838979089916, -0.026240679686968537, -0.01222860309470573, -0.008655096794402885, -0.019539537789058658, -0.00822889935066007, 0.0063503494554811475, -0.004465243049081383, -0.0031768140883764386, -0.0134416275197579, 0.04314434722833925, -0.007291263298045165, 0.002640788096764881, 0.006891293296169646, -0.0037800480452921015, -0.009664858195737527, -0.008451832839362742, -0.023276965251786123, 0.00018553954687004144, 0.008366593536878702, -0.0037374281612194277, 0.018123247546321112, 0.019014985226422264, -0.00306862536680487, -0.00895671400569137, 0.03501380020260491, -0.010838541690819405, -0.025703015964535694, -0.0026030860617691476, -0.032705774142411444, -0.03178781041742691, -0.01218270472219198, -0.007599437486215802, -0.03013547459486763, -0.01782163126635524, 0.0007864171993580506, 0.033256554612576435, 0.016549593583702404, -0.027748764812088347, -0.020326363839045392, 0.026909482947044403, -0.009881236104541972, 0.01851666243395971, 0.013730130777282083, 0.04317057327322262, 0.026725889456989404, 0.007579766555569348, -0.014451388921092542, 0.009487822148225989, -0.0044390156072140865, 0.010812314714613417, 0.03905284580794348, 0.008078090279354518, -0.018529775456401398, -0.012936747284751885, 0.007369946089308362, 0.01622174939620793, -0.025165350379457618, -0.046212973293636085, 0.02022145407157621, 0.006166756431087457, -0.011395877740882627, -0.0036882515330952568, -0.0012564643386887566, -0.024745709446935642, 0.023172055484316938, -0.00727159283306002, 0.006865065388641041, -0.005307803635397059, -0.012936747284751885, -0.03094852855238297, 0.024562115956880647, 0.02558499131197959, 0.008419048420613294, -0.017900314988941055, -0.010032044244524908, 0.00750108422996746, -0.028351999234665318, 0.00014957908516734418, -0.0024014614673648687, -0.022831096411735544, 0.0256374471270368, -0.02767008295214777, -0.018792050806396978, 0.018687141038927792, 0.009514050055754593, -0.0009786161103904052, -0.010510697503324931, -0.010261535175771039, 0.028378227142193922, -0.009658301684516684, -0.005111097122900374, 0.024391637351912566, 0.003258775135250057, 0.0218082210566366, -0.0004429999880416456, -0.027381579694623584, -0.018424865688932212, 0.011874530999682652, 0.014844802877408525, 0.00971731307947212, 0.0017211840798218737, -0.027250442019625794, 0.006078238407331688, 0.0005942182883256958, -0.0028850323424111798, -0.003776769556851026, -0.027460261554564165, -0.005209450379148717, -0.018110134523879426, -0.005917594569194873, -0.02814217969972695, -0.009232103309451251, 0.022070496406632178, 0.003721035951844704, -0.01721839684377827, -0.0036456316490225825, 0.04542614351835888, -0.0047734172372520195, 0.0021342682682923496, -0.015067737297433815, 0.00935012703068474, -0.028404455049722527, -0.030214156454808207, -0.009756654940765027, -0.013389172636023306, 0.018883847551424478, -0.03622026904775885, -0.00031411608467218915, -0.012261387513455178, -0.007979737023106176, -0.011481117043366667, -0.0034882662993268427, -0.026148882941941037, -0.003930856650936345, 0.024562115956880647, -0.0012335152688472087, -0.01986738197655313, -0.007868269813093532, 0.015107078227404104, -0.007632221904965249, -0.009841894243249065, 0.007468299345556704, -0.010032044244524908, 0.015828336371214564, -0.03385978717250818, 0.008346923071893556, -0.002335892629865974, -0.015474264276191484, 0.004202967699085804, 0.009605845869459475, 0.02675211736451801, -0.0009359962845253947, 0.0018998593715539504, -0.034226974152618175, -0.03569571834776769, -0.010799200760849115, 0.020365704769015683, -0.0014966105319913743, -0.006996203529300139, 0.008510845165640794, 0.02767008295214777, 0.007940396093135887, 0.020195226164047606, -0.019382172206532263, -0.032259905302360864, -0.004550482817226731, -0.027879902487086137, -0.014267796362360158, 0.0012671192514992614, 0.008032191906840768, 0.042882071878343676, 0.0020342756514081426, -0.003957084092803641, -0.03367619368245318, -0.016798755911256298, -0.008064976325590216, -0.016247977303736536, -0.02722421411209719, 0.023932653626775068, 0.048888182608649085, 0.03008301877981042, 0.0018162589640444672, 0.004216081187188798, -0.0018637964643634275, 0.028955233657242292, -0.023276965251786123, -0.014202227524861263, 0.011710608905935414, -0.024903075029462037, 0.009225546798230408, 0.021611514544139915, -0.03645631835287106, -0.004734075841620422, 0.009592732847017789, 0.016720074051315717, -0.00963207377698808, 0.012418753095981571, -0.013271148914789819, 0.005127489332275098, 0.016116839628738746, 0.019696901508939817, 0.005537295032304498, -0.01808390661635082, 0.01892318848139477, -0.04403608490844041, -0.0028571655399080185, -0.002498175595808, 0.011874530999682652, 0.00559302863731082, -0.006825723993009443, 0.006924077714919093, -0.020614867096569577, 0.0059110375923127215, -0.004170183280336357, 0.011290967042090826, -0.0038816797899815193, -0.0024899794911206383, 0.0237228340918367, -0.002471948153940704, -0.005445498287276999, 0.027250442019625794, 0.03490889229778096, -0.01826750010640582, 0.008884587725649016, 0.007802700975594637, 0.006851951900538047, -0.012031896582209045, -0.004714404910973968, -0.019710016394026735, 0.016824983818784903, -0.025099781541958723, 0.021047622914178468, -0.025466966659423485, 0.007887940278078678, -1.6571519901239855e-05, -0.0029030636795911143, -0.026673435504577427, 0.011317194949619431, -0.015513605206161775, 0.0009179648309301332, -0.0016162737302760533, -0.0016244699513787422, -0.005855304452967707, 0.00581268433606438, -0.006170035152359187, -0.015251329856166196, -0.01062872122455842, 0.0026145604220669306, 0.03013547459486763, -0.0021850840242217313, -0.004632443864100349, 0.02521780433186959, -0.00935012703068474, -0.023827743859305885, 0.02795858620967195, 0.18936302621423592, -0.009468151683240843, 0.019788698253967316, 0.041439553728077526, -0.029846971337343445, 0.01731019358880577, 0.02753894527714998, 0.0012351545130677465, 0.009225546798230408, 0.010871326109568853, -0.007330604693676764, 0.0054651692179234525, -0.009704200057030434, 0.005127489332275098, 0.01706103126125188, -0.013408843101008452, -0.01376947263857499, -0.03910530162300069, -0.003307951763374228, -0.0321025415824797, -0.008189557489367163, 0.03147307925237413, -0.012549890770979361, -0.029138827147297288, 0.019972291744022316, 0.004219359908460528, 0.015172647064902999, 0.007284706786824322, 0.012176148210971138, 0.011651596579657364, -0.012372854723467821, -0.03142062343731692, -0.004943896307881408, 0.013559652172314004, -0.0234474438567542, -0.005960214686098201, -0.003550556881215316, 0.013939951243543068, 0.0032620536236911326, 0.012877734958473835, -0.004373446769715192, 0.015749654511273983, 0.005642205265434992, -0.009645187730752382, 0.023040917809319147, 0.014005520081041964, -0.0001023489795195244, 0.030791162969856577, -0.01213680634967823, 0.016392229863821245, -0.03488266252760712, -0.010353331920798538, 0.04765548771861177, 0.0436164421132732, -0.03448924950261375, 0.009992702383232, 0.021021395006649863, 0.014071089849863475, -0.02457522897932233, 0.031237031809907154, -0.016195521488679327, 0.030502659712332392, -0.025729242009419066, 0.010589380294588129, -0.009015726331969422, 0.015251329856166196, -0.0268832550395158, -0.010576266340823827, 0.006101187593588563, 0.005347145031028657, -0.02410313409438838, -0.012740040772255202, -0.018660913131399188, -0.007586323532451499, -0.027197986204568585, -0.028456909002134503, 0.01799210987132332, 0.011808962162183757, -0.013861268452279871, 0.01835929685143332, -0.025204691309427908, -0.00468489921349625, 0.0013154764321361542, -0.01553983311369038, -0.017113487076309088, -0.019841154069024525, -0.0003782506853415245, 0.00886491726066387, -0.00545533398543088, 0.0034685956015110433, -0.01014351145453755, -0.02094271128406405, -0.014779234039909632, -0.028063495977141136, -0.006333957246106424, 0.0076518923699503945, 0.001455629892139238, 0.008917372144398463, -0.021978701524249914, 0.007107670739312783, -0.03441056764267317, -0.0010540202967971996, 0.02094271128406405, 0.0004761942469500592, 0.004560318049719304, 0.007887940278078678, -0.01467432334111783, -0.013821927522309582, -0.000376201659169684, -0.011690937509627653, -0.01586767730118485, -0.03163044669754576, 0.0167069591662288, -0.006661801899262206, -0.021244329426675153, 0.022752414551794966, 0.0005024218343365142, -0.012910519377223281, 0.012884292401017294, -0.010897554017097457, -0.019119896856536683, -0.010294319594520486, -0.0033489322868110374, 0.01982804104658284, -0.007514197718070454, -0.025204691309427908, -0.00613725073360974, 0.004016095953420384, 0.014516957758591435, -0.0251522354943707, 0.00306862536680487, -0.02656852573710824, -0.007737132138095742, -0.003250579030562695, 0.006799496551142146, -0.006373298641738022, -0.0015326734391818973, 0.020168998256519, -0.022516365246682758, 0.022096724314160782, -0.009330456565699594, -0.01744133126380356, 0.008963270516912213, 0.013979293104835975, 0.008582971445683148, -0.04610806166352167, 0.0019834596626481064, -0.01835929685143332, -0.004127563163433028, -0.00754042515993775, -0.016300433118793745, -0.038816800228121735, 0.006897849807390489, 0.003868566069047871, 0.033597511822512596, 0.0009318982321817138, -0.010123840989552407, -0.03425320019750154, -0.02414247502435867, 0.009776325405750172, -0.049255369588759076, 0.008412491909392451, 0.014202227524861263, -0.018556003363930002, -0.0023326141414248985, -0.0019260869298365739, -0.16628276561230126, 0.01614306753626735, -0.00991402052329142, -0.012543333328435902, 0.022909780134321357, -0.0018293728013934424, -0.0004917668633183458, 0.006507715038007541, -0.01952642290397174, -0.029846971337343445, -0.018529775456401398, 0.0056061421254138145, -0.038239793713073365, -0.01194665634840239, 0.005193058169773993, 0.02989942528975542, -0.006786383063039153, 0.024430978281882856, 0.03309918716740481, 0.011572913788394167, 0.02085091453903655, -0.010484469595796327, 0.0016703680910618377, -0.0034128619965047213, -0.009841894243249065, -0.013664561939783187, 0.00395052711592149, 0.024824391306876224, -0.009304229589493606, 0.007337161670558915, -0.0017441331496634213, -0.010884440063333155, 0.02803726806961253, 0.007920724696828123, 0.044639317468372144, -0.016208636373766246, -0.03275822995746865, 0.005176665960399269, 0.0012843311411919176, 0.005065198750386624, 0.04393117327832599, 0.02887654993465648, 0.012077794023400179, -0.011002463784566643, 0.012215489140941428, -0.009992702383232, 0.006140528989220162, 0.011599141695922771, 0.0006733108033325319, 0.0004454588252686205, 0.005029136076026756, -0.052219084023941494, 0.029794515522286236, 0.011349979368368878, -0.0027850397255269727, 0.01395306519730737, 0.008419048420613294, 0.01831995592146303, 0.022109839199247704, -0.034174518337560966, -0.015356240554957998, -0.007442071903689408, -0.005806127359182229, 0.004373446769715192, -0.015998814976182642, -0.00395380583719322, -0.010209080292036446, -0.0024047399558059443, -0.041124822563024736, 0.009835337732028222, -0.026686548527019113, -0.006251996199232806, 0.0034489249036952444, 0.010851655644583708, -0.02176888012666631, 0.006619182248020186, -0.029374874589764264, 0.02154594570664102, -0.004396395955972067, 0.027197986204568585, -0.027329123879566375, 0.03485643648272375, -0.0008859999760832912, 0.004475078747235264, -0.007887940278078678, 0.007809257952476788, 0.0128187235635184, -0.002576858387071197, 0.001888384778425513, -0.018201931268906926, 0.013067884959749676, -0.037007095097745586, 0.010471355642032025, 0.00044955687761230145, 0.01309411286727828, 0.015736539626187065, 0.020982054076679572, -0.011120488437122746, 0.031682898787312494, -0.013290819379774964, -0.006710978527386377, -0.01977558523152563, -0.00786171330187269, 0.011454890067160679, 0.02916505319218066, 0.03753164579773675, -0.007061772366799034, 0.007251922368074875, 0.019382172206532263, 0.005179944216009691, -0.020103429419020106, -0.012143362860899074, 0.022621276876797176, 0.030240384362336812, -0.014477616828621146, 0.012477764490937007, -0.018280613128847507, -0.020064088489049815, 0.017375762426304665, 0.02121810151914655, 0.0444032718885504, 0.015513605206161775, -0.03128948576231913, -0.010313990059505632, 0.004753746306605566, -0.020168998256519, -0.07480101624547791, -0.015303784739900789, 0.0055766364279360965, 0.013362944728494702, -0.01804456568638053, 0.04776039934872619, -0.014753006132381027, -0.013664561939783187, -0.03936757697299626, 0.03957739650793463, -0.002383430130184934, -0.010491027038339786, 0.007796143998712486, 0.001008122040698777, 0.027748764812088347, -0.0256374471270368, -0.018241272198877216, -0.016129952651180432, 0.0029292913542890643, 0.024719481539407038, -0.014215341478625566, -0.014254682408595856, -0.004573432003483606, -0.04115105233319857, -0.008537073073169399, 0.006124136779845438, -0.03485643648272375, 0.011343422857148035, 0.045163868168363305, 0.004629165608489928, 0.0027719260045933245, -0.0150808503198755, -0.012018782628444743, -0.04663261236351283, -0.013166238215998018, -0.020116544304107024, -0.025598104334421275, 0.017283965681277165, 0.012622016119699098, -0.040337996513038, -0.0038554523481142233, 0.009507492613211132, 0.017756062428856346, -0.01213680634967823, -0.007605994463097953, 0.007002760040520982, -0.020837801516594867, 0.02777499271961695, 0.01491037171490742, -0.023185168506758624, -0.037951288592903955, -0.000466768709097294, -0.0034259759502690236, -0.04272470443317205, 0.03632518067787327, -0.0048914409584855075, 0.017598696846329955, -0.02009031639657842, 0.0012269582919650576, -0.01640534288626293, -0.02120498663405963, 0.01786097219632553, -0.012045009604650731, 0.02370971920674978, 0.0003048954668989071, 0.0032768067052606456, -0.0014015355313534536, 0.008884587725649016, 0.014215341478625566, 0.009874678661998513, -0.004691455724717093, 0.027119304344628007, -0.012503992398465611, 0.005481561427298176, -0.01036644587456284, 0.015238215902401894, -0.025703015964535694, -0.018687141038927792, 0.009795995870735315, -0.023132714554346647, 0.006432310502354766, -0.010707404015821617, 0.019106781971449764, 0.00559302863731082, 0.014530071712355737, 0.002422771525816533, 0.01062872122455842, 0.006068403174839115, 0.005835633522321255, -0.011212284250827629, 0.0007536327224009396, 0.009015726331969422, 0.002521124782064875, -0.008871474703207332, 0.0020506678607828664, 0.014975940552406315, 0.013835041476073884, -0.02094271128406405, 0.008491174700655649, 0.003927577929664615, -0.024116247116830067, 0.000930258987961176, -0.07443383671594885, 0.03792506254802058, -0.010163181919522696, -0.010543481922074379, -0.010923780993303446, -0.0011925346289950725, -0.003360406879939475, 0.013166238215998018, 0.007028987948049586, 0.011841746580933205, -0.027696310859676374, 0.012287614489661165, -0.00017334782077490845, 0.000557335759024904, 0.0005503691166067773, -0.02675211736451801, 0.004032488162795108, -0.008556743538154544, 0.0032981165308816557, 0.018726481968898083, -0.0054979536366729, 0.018910075458953082, 0.02449654711938175, -0.001144177564773507, -0.0022408176292280533, 0.006740484690525403, -0.009697642614486975, 0.014123544733598068, -0.01281216612097494, 0.0008343644816283135, 0.030397749944863207, -0.004612773399115204, -0.002144103500784922, -0.0030932136808669553, 0.00259161146864071, -0.020155885234077315, -0.004819315144104461, 0.020549298259070682, 0.006710978527386377, 0.010635278667101879, 0.001253185966663008, -0.03115834808732134, -0.0009392747147588068, 0.03595799369776327, -0.0204706163991301, 0.02159840152169823, 0.01276626774846119, -0.00804530586060507, -0.004445572584096238, 0.021834448964165205, 0.00038111933362363384, 0.01167782355586335, 0.0012294172165035278, -0.014333365199859054, 0.004973402471020434, -0.012366297280924362, 0.016943008471341007, -0.0012712174202582694, -0.013782586592339292, -0.015972587068654037, 0.029873197382226817, 0.011054919599623852, -0.014871029853614513, -0.009389468891977646, 0.00954027703196058, 0.009232103309451251, 0.0017719999521665824, 0.007599437486215802, -0.007343718647441066, -0.025073553634430118, -0.02003786058152121, -0.0015466068404334777, 0.00390790746467947, 0.015618515904953577, 0.011317194949619431, -0.008242012373101754, -0.0236310373468092, -0.004373446769715192, 0.004458686072199232, 0.03102721041232355, 0.028588046677132294, -0.006445424456119069, -0.020680435934068472, 0.027381579694623584, 0.008386264001863847, 0.03629895090769943, -0.01847732150398942, 0.012628573562242559, 0.020536185236628996, 0.022490139201799385, 0.010399230293312288, 0.024391637351912566, 0.010209080292036446, -0.002585054491758559, 0.020024747559079525, -0.007632221904965249, -0.02346055874184112, -0.010635278667101879, 0.024968643866960932, 0.021965586639162996, -0.002617838910508006, -0.00504552828540148, 0.010805757272069958, -0.00967141470695837, -0.02488996014437512, 0.012379411234688664, -0.010254978664550196, -0.01491037171490742, 0.02829954341960811, 0.00490783316786023, 0.017113487076309088, -0.006806053528024297, -0.0037112007193521312, 0.004157069326572054, -0.026240679686968537, 0.011435218670852917, -0.004842264330361336, -0.009363240984449041, -0.01614306753626735, 0.007147011669283073, 0.006917520738036942, 0.021100076866590444, 0.03564326253271048, -0.019106781971449764, 0.057910467314484584, -0.0020834522795323135, 0.046265429108693294, -0.038947937903119526, 0.007848599348108387, 0.0030505937967942815, -0.014202227524861263, -0.006340514222988575, -0.01296297519228049, 0.03288936763246644, -0.011645039137113905, -0.0025883329801996346, -0.007278149809942171, 0.011382763787118324, -0.003389913043078501, 0.07049969901543424, 0.020746004771567367, 0.0111008179721376, 0.010989350762124957, -0.028640502492189503, -0.01778229033638495, 0.009979589360790315, -0.002017883442033419, -0.02414247502435867, 0.009186204936937501, 0.02803726806961253, -0.026634094574607137, -0.00535698026352123, 0.018241272198877216, 0.004268536536584699, 0.00400298246531739, 0.005484839682908598, 0.019237919646447554, -0.013369502171038161, -0.015907018231155142, 0.0010384477677404082, -0.010445128665826038, 0.015198874972431603, 0.00034956428983192627, -0.00022027057540733536, -0.00329483804244058, 0.0324697285625897, 0.010491027038339786, 0.008084647721897978, -0.03923643929799847, 0.016418455908704617, 0.004691455724717093, -0.007691233765581993, -0.02457522897932233, 0.019919835928965107, -0.011238512158356233, 0.00781581492935894, 0.010222194245800748, 0.04479668491354377, -0.015552947067454682, 0.0011859777685282486, -0.009264887728200699, -0.010668063085851326, -0.03443679368755654, -0.00690440678427264, -0.00020613228318010348, -0.008687881213152332, -0.01913300987897837, -0.004704569678481396]}\n"
     ]
    }
   ],
   "source": [
    "print(items[0])"
   ]
  },
  {
   "cell_type": "markdown",
   "metadata": {},
   "source": [
    "Now we have the movie data stored in the correct format, so let's load it into the Azure AI Search index we created earlier."
   ]
  },
  {
   "cell_type": "code",
   "execution_count": 10,
   "metadata": {},
   "outputs": [
    {
     "name": "stdout",
     "output_type": "stream",
     "text": [
      "Successfully loaded 50 movies into Azure AI Search index.\n"
     ]
    }
   ],
   "source": [
    "from azure.search.documents import SearchClient\n",
    "\n",
    "search_client = SearchClient(\n",
    "    azure_ai_search_endpoint,\n",
    "    azure_ai_search_index_name,\n",
    "    AzureKeyCredential(azure_ai_search_api_key)\n",
    ")\n",
    "\n",
    "result = search_client.upload_documents(items)\n",
    "\n",
    "print(f\"Successfully loaded {len(data)} movies into Azure AI Search index.\")"
   ]
  },
  {
   "cell_type": "markdown",
   "metadata": {},
   "source": [
    "## Vector store searching using Azure AI Search\n",
    "\n",
    "We've loaded the movies into Azure AI Search, so now let's experiment with some of the different types of searches you can perform.\n",
    "\n",
    "First we'll just perform a simple keyword search."
   ]
  },
  {
   "cell_type": "code",
   "execution_count": 11,
   "metadata": {},
   "outputs": [
    {
     "name": "stdout",
     "output_type": "stream",
     "text": [
      "Movie: Max\n",
      "Genre: 'Adventure', 'Drama'\n",
      "----------\n",
      "Movie: Immortals\n",
      "Genre: 'Fantasy', 'Action', 'Drama'\n",
      "----------\n",
      "Movie: 僕のヒーローアカデミア THE MOVIE ～2人の英雄～\n",
      "Genre: 'Animation', 'Action', 'Adventure', 'Fantasy'\n",
      "----------\n"
     ]
    }
   ],
   "source": [
    "query = \"hero\"\n",
    "\n",
    "results = list(search_client.search(\n",
    "    search_text=query,\n",
    "    query_type=\"simple\",\n",
    "    include_total_count=True,\n",
    "    top=5\n",
    "))\n",
    "\n",
    "for result in results:\n",
    "    print(\"Movie: {}\".format(result[\"title\"]))\n",
    "    print(\"Genre: {}\".format(result[\"genre\"]))\n",
    "    print(\"----------\")"
   ]
  },
  {
   "cell_type": "markdown",
   "metadata": {},
   "source": [
    "We get some results, but they're not necessarily movies about heroes. It could be that there is some text in the index for these results that relates to the word \"hero\". For example, the description might mention \"heroic deeds\" or something similar.\n",
    "\n",
    "Let's now try the same again, but this time we'll ask a question instead of just searching for a keyword."
   ]
  },
  {
   "cell_type": "code",
   "execution_count": 12,
   "metadata": {},
   "outputs": [
    {
     "name": "stdout",
     "output_type": "stream",
     "text": [
      "Movie: The Miseducation of Cameron Post\n",
      "Genre: 'Drama'\n",
      "----------\n",
      "Movie: The Sisterhood of the Traveling Pants\n",
      "Genre: 'Drama', 'Comedy'\n",
      "----------\n",
      "Movie: Perfume\n",
      "Genre: 'Crime', 'Fantasy', 'Drama'\n",
      "----------\n",
      "Movie: Max\n",
      "Genre: 'Adventure', 'Drama'\n",
      "----------\n",
      "Movie: 僕のヒーローアカデミア THE MOVIE ～2人の英雄～\n",
      "Genre: 'Animation', 'Action', 'Adventure', 'Fantasy'\n",
      "----------\n"
     ]
    }
   ],
   "source": [
    "query = \"What are the best movies about superheroes?\"\n",
    "\n",
    "results = list(search_client.search(\n",
    "    search_text=query,\n",
    "    query_type=\"simple\",\n",
    "    include_total_count=True,\n",
    "    top=5\n",
    "))\n",
    "\n",
    "for result in results:\n",
    "    print(\"Movie: {}\".format(result[\"title\"]))\n",
    "    print(\"Genre: {}\".format(result[\"genre\"]))\n",
    "    print(\"----------\")"
   ]
  },
  {
   "cell_type": "markdown",
   "metadata": {},
   "source": [
    "As before, you will likely get mixed results. Some of the movies returned could be about heroes, but others may not be. This is because the search is still based on keywords.\n",
    "\n",
    "Next, let's try a vector search."
   ]
  },
  {
   "cell_type": "code",
   "execution_count": 14,
   "metadata": {},
   "outputs": [
    {
     "name": "stdout",
     "output_type": "stream",
     "text": [
      "Movie: 僕のヒーローアカデミア THE MOVIE ～2人の英雄～\n",
      "Genre: 'Animation', 'Action', 'Adventure', 'Fantasy'\n",
      "----------\n",
      "Movie: Immortals\n",
      "Genre: 'Fantasy', 'Action', 'Drama'\n",
      "----------\n",
      "Movie: America\n",
      "Genre: 'Action', 'Comedy', 'History', 'Animation', 'Fantasy'\n",
      "----------\n",
      "Movie: Joker\n",
      "Genre: 'Crime', 'Thriller', 'Drama'\n",
      "----------\n",
      "Movie: Legends of Oz\n",
      "Genre: 'Animation', 'Family', 'Fantasy'\n",
      "----------\n"
     ]
    }
   ],
   "source": [
    "query = \"What are the best movies about superheroes?\"\n",
    "\n",
    "vector = VectorizedQuery(vector=azure_openai_embeddings.embed_query(query), k_nearest_neighbors=5, fields=\"vector\")\n",
    "\n",
    "# Note the `None` value for the `search_text` parameter. This is because we're not sending the query text to Azure AI Search. We're sending the embedded version of the query text instead via the `vector_queries` parameter.\n",
    "\n",
    "results = list(search_client.search(\n",
    "    search_text=None,\n",
    "    query_type=\"semantic\",\n",
    "    semantic_configuration_name=\"movies-semantic-config\",\n",
    "    vector_queries=[vector],\n",
    "    select=[\"title\", \"genre\"],\n",
    "    top=5\n",
    "))\n",
    "\n",
    "for result in results:\n",
    "    print(\"Movie: {}\".format(result[\"title\"]))\n",
    "    print(\"Genre: {}\".format(result[\"genre\"]))\n",
    "    print(\"----------\")"
   ]
  },
  {
   "cell_type": "markdown",
   "metadata": {},
   "source": [
    "It's likely that the raw vector search didn't return exactly what you were expecting. You were probably expecting a list of superhero movies, but now we're getting a list of movies that are **similar** to the vector we provided. Some of these may be hero movies, but others may not be. The vector search is returning the nearest neighbours to the vector we provided, so it's possible that at least one of the results is a superhero movie, and the others are similar to that movie in some way.\n",
    "\n",
    "So, both the keyword search and the vector search have their limitations. The keyword search is limited to the keywords in the index, so it's possible that we might miss some movies that are about heroes. The vector search is limited to returning the nearest neighbours to the vector we provide, so it's possible that we might get some movies that are not about heroes.\n",
    "\n",
    "## Hybrid search using Azure AI Search\n",
    "\n",
    "To overcome the limitations of both keyword search and vector search, we can use a combination of both. This is known as Hybrid Search. Let's run the same query again, but this time we'll use Hybrid Search.\n",
    "\n",
    "The only significant difference is that this time we will submit both the original query text and the embedding vector to Azure AI Search. Azure AI Search will then use both the query text and the vector to perform the search and combine the results."
   ]
  },
  {
   "cell_type": "code",
   "execution_count": 15,
   "metadata": {},
   "outputs": [
    {
     "name": "stdout",
     "output_type": "stream",
     "text": [
      "Movie: Immortals\n",
      "Genre: 'Fantasy', 'Action', 'Drama'\n",
      "Score: 0.029213953763246536\n",
      "Reranked score: 2.4780943393707275\n",
      "----------\n",
      "Movie: 僕のヒーローアカデミア THE MOVIE ～2人の英雄～\n",
      "Genre: 'Animation', 'Action', 'Adventure', 'Fantasy'\n",
      "Score: 0.03229166567325592\n",
      "Reranked score: 2.4727327823638916\n",
      "----------\n",
      "Movie: Joker\n",
      "Genre: 'Crime', 'Thriller', 'Drama'\n",
      "Score: 0.02736726962029934\n",
      "Reranked score: 2.3302695751190186\n",
      "----------\n",
      "Movie: The Enforcer\n",
      "Genre: 'Action', 'Crime', 'Thriller'\n",
      "Score: 0.013888888992369175\n",
      "Reranked score: 2.2569315433502197\n",
      "----------\n",
      "Movie: Pandorum\n",
      "Genre: 'Action', 'Horror', 'Mystery', 'Science Fiction', 'Thriller'\n",
      "Score: 0.012987012974917889\n",
      "Reranked score: 2.0923521518707275\n",
      "----------\n"
     ]
    }
   ],
   "source": [
    "query = \"What are the best movies about superheroes?\"\n",
    "\n",
    "vector = VectorizedQuery(vector=azure_openai_embeddings.embed_query(query), k_nearest_neighbors=5, fields=\"vector\")\n",
    "\n",
    "# Note the `None` value for the `search_text` parameter. This is because we're not sending the query text to Azure AI Search. We're sending the embedded version of the query text instead via the `vector_queries` parameter.\n",
    "\n",
    "results = list(search_client.search(\n",
    "    search_text=query,\n",
    "    query_type=\"semantic\",\n",
    "    semantic_configuration_name=\"movies-semantic-config\",\n",
    "    vector_queries=[vector],\n",
    "    select=[\"title\", \"genre\"],\n",
    "    top=5\n",
    "))\n",
    "\n",
    "for result in results:\n",
    "    print(\"Movie: {}\".format(result[\"title\"]))\n",
    "    print(\"Genre: {}\".format(result[\"genre\"]))\n",
    "    print(\"Score: {}\".format(result[\"@search.score\"]))\n",
    "    print(\"Reranked score: {}\".format(result[\"@search.reranker_score\"]))\n",
    "    print(\"----------\")"
   ]
  },
  {
   "cell_type": "markdown",
   "metadata": {},
   "source": [
    "Hopefully, you'll now see a much better set of results. Performing a hybrid search has allowed us to combine the benefits of both keyword search and vector search. But also, Azure AI Search performs a further step when using hybrid search. It makes use of a Semantic Ranker to further improve the search results. The Semantic Ranker uses a language understanding model to understand the query text and the documents in the index and then uses this information to rerank the search results. So, after performing the keyword and vector search, Azure AI Search will then use the Semantic Ranker to re-order the search results based on the context of the original query.\n",
    "\n",
    "In the results above, you can see a `Reranked Score`. This is the score that has been calculated by the Semantic Ranker. The `Score` is the score calculated by the keyword and vector search. You'll note that the results are returned in the order determined by the reranked score."
   ]
  },
  {
   "cell_type": "markdown",
   "metadata": {},
   "source": [
    "## Bringing it All Together with Retrieval Augmented Generation (RAG) + Langchain (LC)\n",
    "\n",
    "Now that we have our Vector Store setup and data loaded, we are now ready to implement the RAG pattern using AI Orchestration. At a high-level, the following steps are required:\n",
    "1. Ask the question\n",
    "2. Create Prompt Template with inputs\n",
    "3. Get Embedding representation of inputted question\n",
    "4. Use embedded version of the question to search Azure AI Search (ie. The Vector Store)\n",
    "5. Inject the results of the search into the Prompt Template & Execute the Prompt to get the completion"
   ]
  },
  {
   "cell_type": "code",
   "execution_count": 16,
   "metadata": {},
   "outputs": [
    {
     "name": "stdout",
     "output_type": "stream",
     "text": [
      "Based on the provided movie data, the best movie about superheroes according to the highest vote average is \"僕のヒーローアカデミア THE MOVIE ～2人の英雄～\" (My Hero Academia: Two Heroes) with a vote average of 8.0. \n",
      "\n",
      "My Hero Academia: Two Heroes is an animated action-adventure movie set in the universe of the popular \"My Hero Academia\" series. The movie's synopsis is as follows:\n",
      "\n",
      "The film centers around the protagonist, All Might, and his protege, Deku (Izuku Midoriya), as they receive an invitation to visit a floating and mobile manmade city called 'I-Island'. This island is a hub for researching quirks, which are the superpowers that individuals in this universe may possess, as well as hero supplemental items. A special event named the 'I-Expo' convention is currently being held on the island to showcase the latest hero equipment and research.\n",
      "\n",
      "During their time on the island, despite stringent security measures, a villain breaches the system. The only ones capable of thwarting this new threat are the students from Class 1-A, which includes Deku and his classmates. These young heroes must work together to stop the villain and prevent a disaster.\n",
      "\n",
      "The movie's tagline, \"Who is your hero?\" resonates with the theme of the film, as it explores the concept of heroism and the legacy of All Might as the world's greatest hero.\n",
      "\n",
      "Given the high rating and the dynamic plot featuring heroes-in-training stepping up to save the day, \"My Hero Academia: Two Heroes\" stands out as a compelling superhero movie in this list.\n"
     ]
    }
   ],
   "source": [
    "# Implement RAG using Langchain (LC)\n",
    "\n",
    "from langchain_openai import AzureOpenAIEmbeddings\n",
    "from langchain_openai import AzureChatOpenAI\n",
    "from langchain.chains import LLMChain\n",
    "\n",
    "\n",
    "azure_openai_embeddings = AzureOpenAIEmbeddings(\n",
    "    azure_deployment = os.getenv(\"AZURE_OPENAI_EMBEDDING_DEPLOYMENT_NAME\")\n",
    ")\n",
    "\n",
    "azure_openai = AzureChatOpenAI(\n",
    "    azure_deployment = os.getenv(\"AZURE_OPENAI_COMPLETION_DEPLOYMENT_NAME\")\n",
    ")\n",
    "\n",
    "# Ask the question\n",
    "query = \"What are the best movies about superheroes?\"\n",
    "\n",
    "# Create a prompt template with variables, note the curly braces\n",
    "from langchain.prompts import PromptTemplate\n",
    "prompt = PromptTemplate(\n",
    "    input_variables=[\"original_question\",\"search_results\"],\n",
    "    template=\"\"\"\n",
    "    Question: {original_question}\n",
    "\n",
    "    Do not use any other data.\n",
    "    Only use the movie data below when responding.\n",
    "    Provide detailed information about the synopsis of the movie.\n",
    "    {search_results}\n",
    "    \"\"\",\n",
    ")\n",
    "\n",
    "# Search Vector Store\n",
    "search_client = SearchClient(\n",
    "    azure_ai_search_endpoint,\n",
    "    azure_ai_search_index_name,\n",
    "    AzureKeyCredential(azure_ai_search_api_key)\n",
    ")\n",
    "\n",
    "vector = VectorizedQuery(vector=azure_openai_embeddings.embed_query(query), k_nearest_neighbors=5, fields=\"vector\")\n",
    "\n",
    "results = list(search_client.search(\n",
    "    search_text=query,\n",
    "    query_type=\"semantic\",\n",
    "    semantic_configuration_name=\"movies-semantic-config\",\n",
    "    include_total_count=True,\n",
    "    vector_queries=[vector],\n",
    "    select=[\"title\",\"genre\",\"overview\",\"tagline\",\"release_date\",\"popularity\",\"vote_average\",\"vote_count\",\"runtime\",\"revenue\",\"original_language\"],\n",
    "    top=5\n",
    "))\n",
    "\n",
    "# Build the Prompt and Execute against the Azure OpenAI to get the completion\n",
    "chain = LLMChain(llm=azure_openai, prompt=prompt, verbose=False)\n",
    "response = chain.invoke({\"original_question\": query, \"search_results\": results})\n",
    "print(response['text'])"
   ]
  },
  {
   "cell_type": "markdown",
   "metadata": {},
   "source": [
    "## Next Section\n",
    "\n",
    "📣 [Deploy AI](../../04-deploy-ai/README.md)"
   ]
  }
 ],
 "metadata": {
  "kernelspec": {
   "display_name": "Python 3",
   "language": "python",
   "name": "python3"
  },
  "language_info": {
   "codemirror_mode": {
    "name": "ipython",
    "version": 3
   },
   "file_extension": ".py",
   "mimetype": "text/x-python",
   "name": "python",
   "nbconvert_exporter": "python",
   "pygments_lexer": "ipython3",
   "version": "3.11.8"
  },
  "orig_nbformat": 4
 },
 "nbformat": 4,
 "nbformat_minor": 2
}
