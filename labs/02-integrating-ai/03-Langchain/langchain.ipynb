{
 "cells": [
  {
   "attachments": {},
   "cell_type": "markdown",
   "metadata": {},
   "source": [
    "# 03 - Langchain\n",
    "\n",
    "In this lab, we will introduce [Langchain](https://python.langchain.com/docs/get_started/introduction), a framework for developing applications powered by language models.\n",
    "\n",
    "Langchain supports Python and Javascript / Typescript. For this lab, we will use Python."
   ]
  },
  {
   "attachments": {},
   "cell_type": "markdown",
   "metadata": {},
   "source": [
    "We'll start by importing the `AzureOpenAI` specific components from the `langchain` package, including models and schemas for interacting with the API."
   ]
  },
  {
   "cell_type": "code",
   "execution_count": 1,
   "metadata": {},
   "outputs": [],
   "source": [
    "from langchain.llms import AzureOpenAI\n",
    "from langchain_openai import AzureChatOpenAI\n",
    "from langchain.schema import HumanMessage"
   ]
  },
  {
   "attachments": {},
   "cell_type": "markdown",
   "metadata": {},
   "source": [
    "As with all the other labs, we'll need to provide our API key and endpoint details, so we'll load them from our `.env` file."
   ]
  },
  {
   "cell_type": "code",
   "execution_count": 2,
   "metadata": {},
   "outputs": [
    {
     "name": "stdout",
     "output_type": "stream",
     "text": [
      "Found Azure OpenAI Endpoint: https://openai-sweden-testing.openai.azure.com/\n"
     ]
    }
   ],
   "source": [
    "import os\n",
    "import openai\n",
    "from dotenv import load_dotenv\n",
    "\n",
    "if load_dotenv():\n",
    "    print(\"Found Azure OpenAI Endpoint: \" + os.getenv(\"AZURE_OPENAI_ENDPOINT\"))\n",
    "else: \n",
    "    print(\"No file .env found\")"
   ]
  },
  {
   "attachments": {},
   "cell_type": "markdown",
   "metadata": {},
   "source": [
    "Next, we'll configure Langchain by providing the Azure OpenAI deployment name. Langchain will automatically retrieve details for the Azure OpenAI endpoint and version from the environment variables we've set above."
   ]
  },
  {
   "cell_type": "code",
   "execution_count": 3,
   "metadata": {},
   "outputs": [],
   "source": [
    "# Create an instance of Azure OpenAI\n",
    "llm = AzureChatOpenAI(\n",
    "    azure_deployment = os.getenv(\"AZURE_OPENAI_COMPLETION_DEPLOYMENT_NAME\")\n",
    ")"
   ]
  },
  {
   "attachments": {},
   "cell_type": "markdown",
   "metadata": {},
   "source": [
    "## Send a prompt to Azure OpenAI using Langchain\n",
    "\n",
    "We're now ready to send a request to Azure OpenAI. To do this, we invoke the `llm` instance we created above and pass in the prompt."
   ]
  },
  {
   "cell_type": "code",
   "execution_count": 4,
   "metadata": {},
   "outputs": [
    {
     "name": "stdout",
     "output_type": "stream",
     "text": [
      "To determine the age of the President of the United States, you would follow these steps:\n",
      "\n",
      "1. Identify the current President: As of my knowledge cutoff in 2023, the President of the United States is Joe Biden.\n",
      "\n",
      "2. Find his birthdate: Joe Biden was born on November 20, 1942.\n",
      "\n",
      "3. Calculate his age:\n",
      "   - Start with the current year. If we are still in 2023, use that as the current year.\n",
      "   - Subtract the year of birth from the current year. For instance, if it is 2023, you would calculate 2023 - 1942.\n",
      "   - This gives you the age Joe Biden would turn that year, which is 2023 - 1942 = 81 years.\n",
      "   - However, you need to consider whether or not he has already had his birthday for the current year. If it is past November 20 in the current year, he would be 81 years old. If it is before November 20, he would still be 80 years old.\n",
      "\n",
      "4. Determine the current date: Check the current date to see if Joe Biden has already celebrated his birthday this year.\n",
      "\n",
      "5. Finalize the calculation: If today's date is past November 20 in the year 2023, then Joe Biden is 81 years old. If it is before November 20, 2023, then he is 80 years old.\n",
      "\n",
      "Remember to adjust the calculation based on the actual current year if you are doing this after 2023.\n"
     ]
    }
   ],
   "source": [
    "# Define the prompt we want the AI to respond to - the message the Human user is asking\n",
    "msg = HumanMessage(content=\"Explain step by step. How old is the president of USA?\")\n",
    "\n",
    "# Call the API\n",
    "r = llm.invoke([msg])\n",
    "\n",
    "# Print the response\n",
    "print(r.content)"
   ]
  },
  {
   "attachments": {},
   "cell_type": "markdown",
   "metadata": {},
   "source": [
    "## Send a prompt to Azure OpenAI using Langchain Chaining\n",
    "\n",
    "Now that we have seen Langchain in action, let's take a quick peek at chaining and adding variables to our prompt. To do this we will add `LLMChain` to the `llm` instance created above."
   ]
  },
  {
   "cell_type": "code",
   "execution_count": 5,
   "metadata": {},
   "outputs": [],
   "source": [
    "from langchain.prompts import PromptTemplate\n",
    "from langchain.chains import LLMChain"
   ]
  },
  {
   "attachments": {},
   "cell_type": "markdown",
   "metadata": {},
   "source": [
    "With the OpenAI API, we still had to pass the prompt in using the `Completion.create()` method. With Langchain, we can create a `PromptTemplate`. This way, we can define our prompt up front and leave placeholders for values that will be set later on. The placeholder could be values that are passed from an end user or application via an API. We don't know what they at this point.\n",
    "\n",
    "In the below example, the `{input}` in curly brackets is the placeholder value that will be populated later on."
   ]
  },
  {
   "cell_type": "code",
   "execution_count": 6,
   "metadata": {},
   "outputs": [],
   "source": [
    "# Create a prompt template with variables, note the curly braces\n",
    "prompt = PromptTemplate(\n",
    "    input_variables=[\"input\"],\n",
    "    template=\"What interesting things can I make with a {input}?\",\n",
    ")"
   ]
  },
  {
   "attachments": {},
   "cell_type": "markdown",
   "metadata": {},
   "source": [
    "Next we define a chain. In this case, the chain has two components. One component is the prompt template. The other is the object that represents our AI model (`llm`)."
   ]
  },
  {
   "cell_type": "code",
   "execution_count": 7,
   "metadata": {},
   "outputs": [],
   "source": [
    "# Create a chain\n",
    "chain = LLMChain(llm=llm, prompt=prompt)"
   ]
  },
  {
   "attachments": {},
   "cell_type": "markdown",
   "metadata": {},
   "source": [
    "Finally, we initiate the chain. You can see that we pass in a value for the `input` placeholder."
   ]
  },
  {
   "cell_type": "code",
   "execution_count": 8,
   "metadata": {},
   "outputs": [
    {
     "name": "stdout",
     "output_type": "stream",
     "text": [
      "A Raspberry Pi is a versatile and affordable computer that can be used for a wide range of projects, from simple educational tasks to complex automation and IoT applications. Here are some interesting things you can make with a Raspberry Pi:\n",
      "\n",
      "1. **Retro Gaming Console**: Using software like RetroPie, you can turn your Raspberry Pi into a retro gaming machine that can play games from consoles like the NES, SNES, Sega Genesis, and more.\n",
      "\n",
      "2. **Media Center**: With applications like Kodi or Plex, you can create a powerful media center that can play videos, music, and stream content from the internet.\n",
      "\n",
      "3. **Home Automation Hub**: Integrate your Raspberry Pi with various sensors and devices to control lighting, temperature, and security systems in your home.\n",
      "\n",
      "4. **Personal Web Server**: Host your own website or blog using software like Apache, Nginx, or Lighttpd on the Raspberry Pi.\n",
      "\n",
      "5. **Ad Blocker**: Set up Pi-hole on your Raspberry Pi to block ads across your entire home network.\n",
      "\n",
      "6. **Robotics**: With the GPIO (General Purpose Input/Output) pins, you can control motors, sensors, and other hardware to build robots or other automated systems.\n",
      "\n",
      "7. **Weather Station**: Collect and analyze atmospheric data by attaching weather sensors to your Raspberry Pi.\n",
      "\n",
      "8. **Learning and Development**: Use the Raspberry Pi to learn programming languages like Python, JavaScript, or Scratch.\n",
      "\n",
      "9. **Network Attached Storage (NAS)**: Create your own storage solution to share files across your network.\n",
      "\n",
      "10. **VPN Server**: Install OpenVPN to create a secure connection to your home network from anywhere in the world.\n",
      "\n",
      "11. **Voice Assistant**: Build a smart assistant like Google Assistant or Amazon Alexa into your Raspberry Pi.\n",
      "\n",
      "12. **Digital Art and Music**: Create digital art installations or synthesizers for making music.\n",
      "\n",
      "13. **Security Camera System**: With motionEyeOS or similar software, turn your Raspberry Pi into a security camera for your home or office.\n",
      "\n",
      "14. **AI Experiments**: Experiment with machine learning and AI using tools like TensorFlow or Google's AIY Projects voice kit.\n",
      "\n",
      "15. **Internet Radio**: Stream your favorite online radio stations or podcasts with a custom-built internet radio player.\n",
      "\n",
      "16. **Smart Mirror**: Combine a two-way mirror with a display to show time, weather, calendar events, and other information.\n",
      "\n",
      "17. **3D Printer Controller**: Use the Raspberry Pi to control a 3D printer with software like OctoPrint.\n",
      "\n",
      "18. **IoT Projects**: Connect the Raspberry Pi to the Internet of Things by interfacing with different devices and sensors.\n",
      "\n",
      "19. **Educational Tools**: Teach kids computing, electronics, and programming with interactive projects.\n",
      "\n",
      "20. **Cluster Computing**: Link multiple Raspberry Pi units to create a budget-friendly cluster for parallel computing experiments.\n",
      "\n",
      "The possibilities are nearly endless, and the Raspberry Pi community is constantly coming up with new uses and projects. Remember that each project may require additional components like sensors, screens, or other peripherals, and some may require a certain level of technical skill to complete successfully.\n"
     ]
    }
   ],
   "source": [
    "# Run the chain only specifying the input variable.\n",
    "response = chain.invoke({\"input\": \"raspberry pi\"})\n",
    "\n",
    "# As we are using a single input variable, you could also run the string like this:\n",
    "# response = chain.run(\"raspberry pi\")\n",
    "\n",
    "print(response['text'])"
   ]
  },
  {
   "attachments": {},
   "cell_type": "markdown",
   "metadata": {},
   "source": [
    "## Summary\n",
    "\n",
    "Langchain is an example of an AI orchestrator. It provides an alternative method to the raw API or using an SDK package to access the AI models, but on top of that can provide additional integrations, deal with issues related to rate limiting of the API and provide an abstraction layer over potentially complex operations. We'll get into those more complex use cases in later labs."
   ]
  },
  {
   "attachments": {},
   "cell_type": "markdown",
   "metadata": {},
   "source": [
    "## Up Next\n",
    "\n",
    "In the next lab, we'll look at another AI Orchestrator - Semantic Kernel."
   ]
  },
  {
   "cell_type": "markdown",
   "metadata": {},
   "source": [
    "## Next Section\n",
    "\n",
    "📣 [Semantic Kernel](../04-SemanticKernel/semantickernel.ipynb)"
   ]
  }
 ],
 "metadata": {
  "kernelspec": {
   "display_name": "Python 3",
   "language": "python",
   "name": "python3"
  },
  "language_info": {
   "codemirror_mode": {
    "name": "ipython",
    "version": 3
   },
   "file_extension": ".py",
   "mimetype": "text/x-python",
   "name": "python",
   "nbconvert_exporter": "python",
   "pygments_lexer": "ipython3",
   "version": "3.11.8"
  },
  "orig_nbformat": 4
 },
 "nbformat": 4,
 "nbformat_minor": 2
}
