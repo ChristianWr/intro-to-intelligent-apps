{
 "cells": [
  {
   "attachments": {},
   "cell_type": "markdown",
   "metadata": {},
   "source": [
    "# 04. Semantic Kernel\n",
    "\n",
    "In this lab, we will introduce **Semantic Kernel**. Like **Langchain**, it provides a framework for working with AI models and supports applications written in Python. Semantic Kernel also adds support for .NET and Java applications.\n",
    "\n",
    "As with the other labs, we'll start by reading in values from the `.env` file.\n",
    "\n",
    "___\n",
    "**NOTE**: This lab uses **.NET** so be sure to select .NET and not Python when starting to use this notebook.\n",
    "___"
   ]
  },
  {
   "cell_type": "code",
   "execution_count": 1,
   "metadata": {
    "dotnet_interactive": {
     "language": "csharp"
    },
    "polyglot_notebook": {
     "kernelName": "csharp"
    },
    "vscode": {
     "languageId": "polyglot-notebook"
    }
   },
   "outputs": [
    {
     "data": {
      "text/html": [
       "<div><div></div><div></div><div><strong>Installed Packages</strong><ul><li><span>dotenv.net, 3.1.2</span></li></ul></div></div>"
      ]
     },
     "metadata": {},
     "output_type": "display_data"
    }
   ],
   "source": [
    "#r \"nuget: dotenv.net, 3.1.2\"\n",
    "\n",
    "using dotenv.net;\n",
    "\n",
    "// Read values from .env file\n",
    "var envVars = DotEnv.Fluent()\n",
    "    .WithoutExceptions()\n",
    "    .WithEnvFiles(\"../../../.env\")\n",
    "    .WithTrimValues()\n",
    "    .WithDefaultEncoding()\n",
    "    .WithOverwriteExistingVars()\n",
    "    .WithoutProbeForEnv()\n",
    "    .Read();\n",
    "\n",
    "// Load values into variables and strip quotes\n",
    "var model = envVars[\"AZURE_OPENAI_COMPLETION_DEPLOYMENT_NAME\"].Replace(\"\\\"\", \"\");\n",
    "var azureEndpoint = envVars[\"AZURE_OPENAI_ENDPOINT\"].Replace(\"\\\"\", \"\");\n",
    "var apiKey = envVars[\"AZURE_OPENAI_API_KEY\"].Replace(\"\\\"\", \"\");\n"
   ]
  },
  {
   "attachments": {},
   "cell_type": "markdown",
   "metadata": {},
   "source": [
    "To start working with Semantic Kernel, we'll need to load its nuget package."
   ]
  },
  {
   "cell_type": "code",
   "execution_count": 2,
   "metadata": {
    "dotnet_interactive": {
     "language": "csharp"
    },
    "polyglot_notebook": {
     "kernelName": "csharp"
    },
    "vscode": {
     "languageId": "polyglot-notebook"
    }
   },
   "outputs": [
    {
     "data": {
      "text/html": [
       "<div><div></div><div></div><div><strong>Installed Packages</strong><ul><li><span>Microsoft.SemanticKernel, 1.0.1</span></li></ul></div></div>"
      ]
     },
     "metadata": {},
     "output_type": "display_data"
    }
   ],
   "source": [
    "#r \"nuget: Microsoft.SemanticKernel, 1.0.1\""
   ]
  },
  {
   "attachments": {},
   "cell_type": "markdown",
   "metadata": {},
   "source": [
    "Semantic Kernel works by creating an instance of the Kernel and then adding in various plugins to perform different functions. Those addins or functions can then be called individually or chained together to perform more complex tasks.\n",
    "\n",
    "We use the standard .NET `builder` pattern to initialise the kernel. Notice that we pass in the details of the completion model that we're going to use, the Azure OpenAI API endpoint URL and the API key."
   ]
  },
  {
   "cell_type": "code",
   "execution_count": 3,
   "metadata": {
    "dotnet_interactive": {
     "language": "csharp"
    },
    "polyglot_notebook": {
     "kernelName": "csharp"
    },
    "vscode": {
     "languageId": "polyglot-notebook"
    }
   },
   "outputs": [],
   "source": [
    "using Microsoft.SemanticKernel;\n",
    "\n",
    "var builder = Kernel.CreateBuilder();\n",
    "builder.Services.AddAzureOpenAIChatCompletion(model, azureEndpoint, apiKey);\n",
    "var kernel = builder.Build();"
   ]
  },
  {
   "attachments": {},
   "cell_type": "markdown",
   "metadata": {},
   "source": [
    "Let's create a Semantic Function to perform a simple request to Azure OpenAI. In this case, the function contains a *prompt template*. The template allows us to define a prompt and add placeholders for values that we will provide later. These values could come from user input, or another function, for example."
   ]
  },
  {
   "cell_type": "code",
   "execution_count": 4,
   "metadata": {
    "dotnet_interactive": {
     "language": "csharp"
    },
    "polyglot_notebook": {
     "kernelName": "csharp"
    },
    "vscode": {
     "languageId": "polyglot-notebook"
    }
   },
   "outputs": [],
   "source": [
    "var whatCanIMakeFunction = kernel.CreateFunctionFromPrompt(\n",
    "    new PromptTemplateConfig()\n",
    "    {\n",
    "        Template = @\"What interesting things can I make with a {{$item}}?\",\n",
    "        InputVariables = [\n",
    "            new() { Name = \"item\", Description = \"An item to make something with.\", IsRequired=true }\n",
    "        ]\n",
    "    });\n"
   ]
  },
  {
   "attachments": {},
   "cell_type": "markdown",
   "metadata": {},
   "source": [
    "`{{$item}}` represents the value we will provide later and will be replaced when we make the call to Azure OpenAI.\n",
    "\n",
    "Next, we'll define a value for `item` and then call the function, passing in the `item` as we do so."
   ]
  },
  {
   "cell_type": "code",
   "execution_count": 5,
   "metadata": {
    "dotnet_interactive": {
     "language": "csharp"
    },
    "polyglot_notebook": {
     "kernelName": "csharp"
    },
    "vscode": {
     "languageId": "polyglot-notebook"
    }
   },
   "outputs": [
    {
     "name": "stdout",
     "output_type": "stream",
     "text": [
      "A Raspberry Pi is a versatile, affordable, credit-card-sized computer that can be used for an array of creative and educational projects. Here’s a list of interesting things you can do with a Raspberry Pi:\n",
      "\n",
      "1. Home Automation System: Use your Pi to control lights, thermostats, and other smart devices in your home.\n",
      "\n",
      "2. Media Center: Transform your Pi into a media center with software like OSMC or Plex, allowing you to stream content to your TV.\n",
      "\n",
      "3. Retro Gaming Console: Emulate old gaming consoles and play classic games by setting up RetroPie or Recalbox.\n",
      "\n",
      "4. Personal Web Server: Host your own website or blog by turning the Raspberry Pi into a LAMP (Linux, Apache, MySQL, PHP) or LEMP (Linux, Nginx, MySQL, PHP) server.\n",
      "\n",
      "5. Ad Blocking Server: Set up Pi-hole on your Raspberry Pi to block ads across your entire home network.\n",
      "\n",
      "6. Network Attached Storage (NAS): Create your own storage server for backups and file sharing.\n",
      "\n",
      "7. Home Security System: Use the Pi with cameras and motion sensors to build a security system for your home.\n",
      "\n",
      "8. Weather Station: With appropriate sensors, make a personal weather station to track local conditions.\n",
      "\n",
      "9. Learn to Code: Use the Raspberry Pi as a platform to learn programming languages like Python, Scratch, or HTML/CSS.\n",
      "\n",
      "10. Robotics: Build and program robots or drones, using the Raspberry Pi for control and processing.\n",
      "\n",
      "11. Digital Art: Create interactive art projects or digital picture frames showing your favorite photos or artwork.\n",
      "\n",
      "12. VPN Server: Use the Pi to set up a secure VPN to access your home network remotely.\n",
      "\n",
      "13. AI Experiments: Play with machine learning and AI by running software such as TensorFlow.\n",
      "\n",
      "14. IoT Projects: Connect various IoT devices and sensors to the Pi to collect and analyze data.\n",
      "\n",
      "15. Amateur Radio: Use the Pi to learn about and experiment with amateur (Ham) radio.\n",
      "\n",
      "16. Cluster Computing: Build a cluster of Raspberry Pis to learn about distributed computing.\n",
      "\n",
      "17. Music Server: Set up software like Mopidy and use your Pi as a music streaming server.\n",
      "\n",
      "18. Smart Mirror: Build a mirror that displays useful information such as weather, news, or your daily calendar.\n",
      "\n",
      "19. Time-Lapse Camera: Set up a camera module and take time-lapse photos or videos of natural events or DIY projects.\n",
      "\n",
      "20. Voice Assistant: Create your own voice-controlled assistant with open-source software like Mycroft.\n",
      "\n",
      "21. Plant Monitoring System: Monitor the health of your houseplants with sensors that track moisture, sunlight, and temperature.\n",
      "\n",
      "Remember to consider the specific model of Raspberry Pi you have, as capabilities and compatibility might differ. Additionally, some projects may require additional hardware components or accessories to get started. Always check online communities, tutorials, and guides to lead you through each project step.\n"
     ]
    }
   ],
   "source": [
    "string item = \"raspberry pi\";\n",
    "\n",
    "var response = await kernel.InvokeAsync(whatCanIMakeFunction, new () { { \"item\", item }});\n",
    "\n",
    "Console.WriteLine(response);"
   ]
  },
  {
   "attachments": {},
   "cell_type": "markdown",
   "metadata": {},
   "source": [
    "The result is a list of ideas for things we could make with a Raspberry Pi. \n",
    "\n",
    "We could then use Semantic Kernel to take that list of ideas and summarize it. First, we'll create a new prompt that will generate a summary of some text."
   ]
  },
  {
   "cell_type": "code",
   "execution_count": 6,
   "metadata": {
    "dotnet_interactive": {
     "language": "csharp"
    },
    "polyglot_notebook": {
     "kernelName": "csharp"
    },
    "vscode": {
     "languageId": "polyglot-notebook"
    }
   },
   "outputs": [],
   "source": [
    "var thingsToMakeSummary = kernel.CreateFunctionFromPrompt(\n",
    "    new PromptTemplateConfig()\n",
    "    {\n",
    "        Template = @\"Summarize the following text: {{$thingsToMake}}?\",\n",
    "        InputVariables = [\n",
    "            new() { Name = \"thingsToMake\", Description = \"A list of things you could make.\", IsRequired=true }\n",
    "        ]\n",
    "    });"
   ]
  },
  {
   "cell_type": "markdown",
   "metadata": {},
   "source": [
    "Next, we can call the kernel again, this time passing in the list of ideas, the `response` from the previous call, as the value for `thingsToMake`."
   ]
  },
  {
   "cell_type": "code",
   "execution_count": 7,
   "metadata": {
    "dotnet_interactive": {
     "language": "csharp"
    },
    "polyglot_notebook": {
     "kernelName": "csharp"
    },
    "vscode": {
     "languageId": "polyglot-notebook"
    }
   },
   "outputs": [
    {
     "name": "stdout",
     "output_type": "stream",
     "text": [
      "The Raspberry Pi is a small, affordable computer that can be used for a wide range of projects. Some examples include home automation, creating a media center, retro gaming, web hosting, ad blocking, setting up a NAS, home security, building a weather station, learning to code, robotics, digital art, running a VPN, experimenting with AI, IoT projects, amateur radio, cluster computing, streaming music, making a smart mirror, creating time-lapse videos, developing a voice assistant, and monitoring plants. The possibilities depend on the model of Raspberry Pi and may require extra hardware. Online resources are available for guidance.\n"
     ]
    }
   ],
   "source": [
    "var summary = await kernel.InvokeAsync(thingsToMakeSummary, new () { { \"thingsToMake\", response }});\n",
    "\n",
    "Console.WriteLine(summary);"
   ]
  },
  {
   "attachments": {},
   "cell_type": "markdown",
   "metadata": {},
   "source": [
    "## Summary\n",
    "\n",
    "Semantic Kernel is another example of an AI orchestrator. Like other orchestrators, it can be used to simplify the process of creating complex AI applications."
   ]
  },
  {
   "cell_type": "markdown",
   "metadata": {},
   "source": [
    "## Next Section\n",
    "\n",
    "📣 [AI Orchestration](../../03-orchestration/README.md)"
   ]
  }
 ],
 "metadata": {
  "kernelspec": {
   "display_name": "Python 3",
   "language": "python",
   "name": "python3"
  },
  "language_info": {
   "codemirror_mode": {
    "name": "ipython",
    "version": 3
   },
   "file_extension": ".py",
   "mimetype": "text/x-python",
   "name": "python",
   "nbconvert_exporter": "python",
   "pygments_lexer": "ipython3",
   "version": "3.11.8"
  },
  "orig_nbformat": 4
 },
 "nbformat": 4,
 "nbformat_minor": 2
}
